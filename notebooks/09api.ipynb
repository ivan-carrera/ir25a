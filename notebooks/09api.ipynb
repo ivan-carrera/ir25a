{
 "cells": [
  {
   "metadata": {},
   "cell_type": "markdown",
   "source": [
    "# Ejercicio 9: Uso de la API de OpenAI\n",
    "\n",
    "En este ejercicio vamos a aprender a utilizar la API de OpenAI\n",
    "\n",
    "## 1. Uso básico\n",
    "\n",
    "El siguiente código sirve para conectarse con la API de OpenAI de forma básica"
   ],
   "id": "dcd16efe7639ac05"
  },
  {
   "metadata": {
    "ExecuteTime": {
     "end_time": "2025-07-02T15:42:17.205511Z",
     "start_time": "2025-07-02T15:42:11.198891Z"
    }
   },
   "cell_type": "code",
   "source": "from openai import OpenAI",
   "id": "e1a6608515f3af8d",
   "outputs": [],
   "execution_count": 1
  },
  {
   "metadata": {
    "ExecuteTime": {
     "end_time": "2025-07-02T15:43:03.096905Z",
     "start_time": "2025-07-02T15:43:03.084363Z"
    }
   },
   "cell_type": "code",
   "source": "OPENAI_API_KEY = ''",
   "id": "1256f3aece432150",
   "outputs": [],
   "execution_count": 2
  },
  {
   "metadata": {
    "ExecuteTime": {
     "end_time": "2025-07-02T15:43:05.336009Z",
     "start_time": "2025-07-02T15:43:04.646081Z"
    }
   },
   "cell_type": "code",
   "source": "client = OpenAI(api_key=OPENAI_API_KEY)",
   "id": "c3d2c27b99469e63",
   "outputs": [],
   "execution_count": 3
  },
  {
   "cell_type": "code",
   "id": "initial_id",
   "metadata": {
    "collapsed": true,
    "ExecuteTime": {
     "end_time": "2025-07-02T16:39:20.365860Z",
     "start_time": "2025-07-02T16:39:14.937089Z"
    }
   },
   "source": [
    "response = client.responses.create(\n",
    "    model=\"gpt-4.1\",\n",
    "    input=\"¿Quién descubrió América?\"\n",
    ")\n",
    "\n",
    "print(response.output_text)"
   ],
   "outputs": [
    {
     "name": "stdout",
     "output_type": "stream",
     "text": [
      "América fue \"descubierta\" para Europa por **Cristóbal Colón**, un navegante genovés al servicio de los Reyes Católicos de España. Colón llegó al continente americano el **12 de octubre de 1492**, arribando a lo que hoy conocemos como el Caribe (las islas Bahamas, probablemente la isla Guanahaní, llamada San Salvador por él).\n",
      "\n",
      "Es importante aclarar que antes de la llegada de Colón, América ya estaba habitada por diversos pueblos indígenas desde hacía miles de años y, además, exploradores vikingos como Leif Erikson habían llegado a una región en el actual Canadá (Vinland) aproximadamente en el año 1000, mucho antes que Colón, aunque ese \"descubrimiento\" no tuvo un impacto global en Europa.\n",
      "\n",
      "Resumen:\n",
      "- **Cristóbal Colón** es quien usualmente se le atribuye el \"descubrimiento de América\" desde la perspectiva europea, en 1492. \n",
      "- Sin embargo, **América ya estaba habitada** y había sido visitada antes por otros pueblos, como los vikingos.\n"
     ]
    }
   ],
   "execution_count": 48
  },
  {
   "metadata": {},
   "cell_type": "markdown",
   "source": "## 2. Retrieval",
   "id": "3a30de61bd443d1d"
  },
  {
   "metadata": {},
   "cell_type": "markdown",
   "source": "### 2.1 Cargo el corpus de 20 News Groups",
   "id": "5488be80d85df276"
  },
  {
   "metadata": {
    "ExecuteTime": {
     "end_time": "2025-06-30T15:14:54.799009Z",
     "start_time": "2025-06-30T15:14:47.902617Z"
    }
   },
   "cell_type": "code",
   "source": [
    "from sklearn.datasets import fetch_20newsgroups\n",
    "\n",
    "newsgroups = fetch_20newsgroups(subset='all', remove=('headers', 'footers', 'quotes'))\n",
    "newsgroupsdocs = newsgroups.data"
   ],
   "id": "36aa2a96f75e4a43",
   "outputs": [],
   "execution_count": 8
  },
  {
   "metadata": {
    "ExecuteTime": {
     "end_time": "2025-07-02T15:52:29.151234Z",
     "start_time": "2025-07-02T15:52:29.107751Z"
    }
   },
   "cell_type": "code",
   "source": [
    "import pandas as pd\n",
    "import pymupdf\n",
    "\n",
    "path = ''\n",
    "file = \"irbookonlinereading.pdf\"\n",
    "\n",
    "# Abrir el PDF\n",
    "doc = pymupdf.open(path + file)"
   ],
   "id": "15b9f584421546ec",
   "outputs": [],
   "execution_count": 15
  },
  {
   "metadata": {
    "ExecuteTime": {
     "end_time": "2025-07-02T15:56:08.181730Z",
     "start_time": "2025-07-02T15:56:06.499428Z"
    }
   },
   "cell_type": "code",
   "source": [
    "# Extraer texto por página\n",
    "data = []\n",
    "for i, page in enumerate(doc):\n",
    "    text = page.get_text().encode(\"utf8\")\n",
    "    if text.strip():  # ignorar páginas en blanco\n",
    "        data.append({\n",
    "            \"page\": i + 1,\n",
    "            \"raw\": str(text).strip()\n",
    "        })\n",
    "\n",
    "# Convertir a DataFrame\n",
    "df = pd.DataFrame(data)\n",
    "df"
   ],
   "id": "fc024fa2479584f",
   "outputs": [
    {
     "data": {
      "text/plain": [
       "     page                                                raw\n",
       "0       1  b'Online edition (c)\\n2009 Cambridge UP\\nAn\\nI...\n",
       "1       2         b'Online edition (c)\\n2009 Cambridge UP\\n'\n",
       "2       3  b'Online edition (c)\\n2009 Cambridge UP\\nAn\\nI...\n",
       "3       4  b'Online edition (c)\\n2009 Cambridge UP\\nDRAFT...\n",
       "4       5  b'Online edition (c)\\n2009 Cambridge UP\\nDRAFT...\n",
       "..    ...                                                ...\n",
       "576   577  b'Online edition (c)\\n2009 Cambridge UP\\n540\\n...\n",
       "577   578  b'Online edition (c)\\n2009 Cambridge UP\\nIndex...\n",
       "578   579  b'Online edition (c)\\n2009 Cambridge UP\\n542\\n...\n",
       "579   580  b'Online edition (c)\\n2009 Cambridge UP\\nIndex...\n",
       "580   581  b'Online edition (c)\\n2009 Cambridge UP\\n544\\n...\n",
       "\n",
       "[581 rows x 2 columns]"
      ],
      "text/html": [
       "<div>\n",
       "<style scoped>\n",
       "    .dataframe tbody tr th:only-of-type {\n",
       "        vertical-align: middle;\n",
       "    }\n",
       "\n",
       "    .dataframe tbody tr th {\n",
       "        vertical-align: top;\n",
       "    }\n",
       "\n",
       "    .dataframe thead th {\n",
       "        text-align: right;\n",
       "    }\n",
       "</style>\n",
       "<table border=\"1\" class=\"dataframe\">\n",
       "  <thead>\n",
       "    <tr style=\"text-align: right;\">\n",
       "      <th></th>\n",
       "      <th>page</th>\n",
       "      <th>raw</th>\n",
       "    </tr>\n",
       "  </thead>\n",
       "  <tbody>\n",
       "    <tr>\n",
       "      <th>0</th>\n",
       "      <td>1</td>\n",
       "      <td>b'Online edition (c)\\n2009 Cambridge UP\\nAn\\nI...</td>\n",
       "    </tr>\n",
       "    <tr>\n",
       "      <th>1</th>\n",
       "      <td>2</td>\n",
       "      <td>b'Online edition (c)\\n2009 Cambridge UP\\n'</td>\n",
       "    </tr>\n",
       "    <tr>\n",
       "      <th>2</th>\n",
       "      <td>3</td>\n",
       "      <td>b'Online edition (c)\\n2009 Cambridge UP\\nAn\\nI...</td>\n",
       "    </tr>\n",
       "    <tr>\n",
       "      <th>3</th>\n",
       "      <td>4</td>\n",
       "      <td>b'Online edition (c)\\n2009 Cambridge UP\\nDRAFT...</td>\n",
       "    </tr>\n",
       "    <tr>\n",
       "      <th>4</th>\n",
       "      <td>5</td>\n",
       "      <td>b'Online edition (c)\\n2009 Cambridge UP\\nDRAFT...</td>\n",
       "    </tr>\n",
       "    <tr>\n",
       "      <th>...</th>\n",
       "      <td>...</td>\n",
       "      <td>...</td>\n",
       "    </tr>\n",
       "    <tr>\n",
       "      <th>576</th>\n",
       "      <td>577</td>\n",
       "      <td>b'Online edition (c)\\n2009 Cambridge UP\\n540\\n...</td>\n",
       "    </tr>\n",
       "    <tr>\n",
       "      <th>577</th>\n",
       "      <td>578</td>\n",
       "      <td>b'Online edition (c)\\n2009 Cambridge UP\\nIndex...</td>\n",
       "    </tr>\n",
       "    <tr>\n",
       "      <th>578</th>\n",
       "      <td>579</td>\n",
       "      <td>b'Online edition (c)\\n2009 Cambridge UP\\n542\\n...</td>\n",
       "    </tr>\n",
       "    <tr>\n",
       "      <th>579</th>\n",
       "      <td>580</td>\n",
       "      <td>b'Online edition (c)\\n2009 Cambridge UP\\nIndex...</td>\n",
       "    </tr>\n",
       "    <tr>\n",
       "      <th>580</th>\n",
       "      <td>581</td>\n",
       "      <td>b'Online edition (c)\\n2009 Cambridge UP\\n544\\n...</td>\n",
       "    </tr>\n",
       "  </tbody>\n",
       "</table>\n",
       "<p>581 rows × 2 columns</p>\n",
       "</div>"
      ]
     },
     "execution_count": 21,
     "metadata": {},
     "output_type": "execute_result"
    }
   ],
   "execution_count": 21
  },
  {
   "metadata": {},
   "cell_type": "markdown",
   "source": "### 2.2 Transformo a embeddings",
   "id": "16237cc6ae2f7853"
  },
  {
   "metadata": {
    "ExecuteTime": {
     "end_time": "2025-07-02T15:57:03.739207Z",
     "start_time": "2025-07-02T15:56:32.171860Z"
    }
   },
   "cell_type": "code",
   "source": "from sentence_transformers import SentenceTransformer",
   "id": "9888767f058bd4d0",
   "outputs": [],
   "execution_count": 22
  },
  {
   "metadata": {
    "ExecuteTime": {
     "end_time": "2025-07-02T15:57:10.901187Z",
     "start_time": "2025-07-02T15:57:03.741724Z"
    }
   },
   "cell_type": "code",
   "source": "model = SentenceTransformer('all-MiniLM-L6-v2')",
   "id": "8ab49dfaf7f79330",
   "outputs": [],
   "execution_count": 23
  },
  {
   "metadata": {
    "ExecuteTime": {
     "end_time": "2025-07-02T15:58:06.688940Z",
     "start_time": "2025-07-02T15:57:51.779324Z"
    }
   },
   "cell_type": "code",
   "source": "embeddings = model.encode(df['raw'])",
   "id": "d99039d161688034",
   "outputs": [],
   "execution_count": 24
  },
  {
   "metadata": {
    "ExecuteTime": {
     "end_time": "2025-07-02T15:58:06.720257Z",
     "start_time": "2025-07-02T15:58:06.688940Z"
    }
   },
   "cell_type": "code",
   "source": [
    "df['embeddings'] = embeddings.tolist()\n",
    "df"
   ],
   "id": "b84cd67574514f4",
   "outputs": [
    {
     "data": {
      "text/plain": [
       "     page                                                raw  \\\n",
       "0       1  b'Online edition (c)\\n2009 Cambridge UP\\nAn\\nI...   \n",
       "1       2         b'Online edition (c)\\n2009 Cambridge UP\\n'   \n",
       "2       3  b'Online edition (c)\\n2009 Cambridge UP\\nAn\\nI...   \n",
       "3       4  b'Online edition (c)\\n2009 Cambridge UP\\nDRAFT...   \n",
       "4       5  b'Online edition (c)\\n2009 Cambridge UP\\nDRAFT...   \n",
       "..    ...                                                ...   \n",
       "576   577  b'Online edition (c)\\n2009 Cambridge UP\\n540\\n...   \n",
       "577   578  b'Online edition (c)\\n2009 Cambridge UP\\nIndex...   \n",
       "578   579  b'Online edition (c)\\n2009 Cambridge UP\\n542\\n...   \n",
       "579   580  b'Online edition (c)\\n2009 Cambridge UP\\nIndex...   \n",
       "580   581  b'Online edition (c)\\n2009 Cambridge UP\\n544\\n...   \n",
       "\n",
       "                                            embeddings  \n",
       "0    [-0.06956461817026138, -0.09505553543567657, 0...  \n",
       "1    [-0.049505531787872314, -0.08177918940782547, ...  \n",
       "2    [-0.04497804492712021, -0.12156280130147934, 0...  \n",
       "3    [-0.08138851076364517, -0.031383614987134933, ...  \n",
       "4    [-0.05637805536389351, -0.08665604889392853, -...  \n",
       "..                                                 ...  \n",
       "576  [-0.07100450992584229, -0.09812875092029572, -...  \n",
       "577  [0.005868136882781982, -0.11765123903751373, -...  \n",
       "578  [-0.08848388493061066, -0.0766187533736229, -0...  \n",
       "579  [-0.05640826374292374, -0.11733546853065491, -...  \n",
       "580  [-0.030659614130854607, -0.14717206358909607, ...  \n",
       "\n",
       "[581 rows x 3 columns]"
      ],
      "text/html": [
       "<div>\n",
       "<style scoped>\n",
       "    .dataframe tbody tr th:only-of-type {\n",
       "        vertical-align: middle;\n",
       "    }\n",
       "\n",
       "    .dataframe tbody tr th {\n",
       "        vertical-align: top;\n",
       "    }\n",
       "\n",
       "    .dataframe thead th {\n",
       "        text-align: right;\n",
       "    }\n",
       "</style>\n",
       "<table border=\"1\" class=\"dataframe\">\n",
       "  <thead>\n",
       "    <tr style=\"text-align: right;\">\n",
       "      <th></th>\n",
       "      <th>page</th>\n",
       "      <th>raw</th>\n",
       "      <th>embeddings</th>\n",
       "    </tr>\n",
       "  </thead>\n",
       "  <tbody>\n",
       "    <tr>\n",
       "      <th>0</th>\n",
       "      <td>1</td>\n",
       "      <td>b'Online edition (c)\\n2009 Cambridge UP\\nAn\\nI...</td>\n",
       "      <td>[-0.06956461817026138, -0.09505553543567657, 0...</td>\n",
       "    </tr>\n",
       "    <tr>\n",
       "      <th>1</th>\n",
       "      <td>2</td>\n",
       "      <td>b'Online edition (c)\\n2009 Cambridge UP\\n'</td>\n",
       "      <td>[-0.049505531787872314, -0.08177918940782547, ...</td>\n",
       "    </tr>\n",
       "    <tr>\n",
       "      <th>2</th>\n",
       "      <td>3</td>\n",
       "      <td>b'Online edition (c)\\n2009 Cambridge UP\\nAn\\nI...</td>\n",
       "      <td>[-0.04497804492712021, -0.12156280130147934, 0...</td>\n",
       "    </tr>\n",
       "    <tr>\n",
       "      <th>3</th>\n",
       "      <td>4</td>\n",
       "      <td>b'Online edition (c)\\n2009 Cambridge UP\\nDRAFT...</td>\n",
       "      <td>[-0.08138851076364517, -0.031383614987134933, ...</td>\n",
       "    </tr>\n",
       "    <tr>\n",
       "      <th>4</th>\n",
       "      <td>5</td>\n",
       "      <td>b'Online edition (c)\\n2009 Cambridge UP\\nDRAFT...</td>\n",
       "      <td>[-0.05637805536389351, -0.08665604889392853, -...</td>\n",
       "    </tr>\n",
       "    <tr>\n",
       "      <th>...</th>\n",
       "      <td>...</td>\n",
       "      <td>...</td>\n",
       "      <td>...</td>\n",
       "    </tr>\n",
       "    <tr>\n",
       "      <th>576</th>\n",
       "      <td>577</td>\n",
       "      <td>b'Online edition (c)\\n2009 Cambridge UP\\n540\\n...</td>\n",
       "      <td>[-0.07100450992584229, -0.09812875092029572, -...</td>\n",
       "    </tr>\n",
       "    <tr>\n",
       "      <th>577</th>\n",
       "      <td>578</td>\n",
       "      <td>b'Online edition (c)\\n2009 Cambridge UP\\nIndex...</td>\n",
       "      <td>[0.005868136882781982, -0.11765123903751373, -...</td>\n",
       "    </tr>\n",
       "    <tr>\n",
       "      <th>578</th>\n",
       "      <td>579</td>\n",
       "      <td>b'Online edition (c)\\n2009 Cambridge UP\\n542\\n...</td>\n",
       "      <td>[-0.08848388493061066, -0.0766187533736229, -0...</td>\n",
       "    </tr>\n",
       "    <tr>\n",
       "      <th>579</th>\n",
       "      <td>580</td>\n",
       "      <td>b'Online edition (c)\\n2009 Cambridge UP\\nIndex...</td>\n",
       "      <td>[-0.05640826374292374, -0.11733546853065491, -...</td>\n",
       "    </tr>\n",
       "    <tr>\n",
       "      <th>580</th>\n",
       "      <td>581</td>\n",
       "      <td>b'Online edition (c)\\n2009 Cambridge UP\\n544\\n...</td>\n",
       "      <td>[-0.030659614130854607, -0.14717206358909607, ...</td>\n",
       "    </tr>\n",
       "  </tbody>\n",
       "</table>\n",
       "<p>581 rows × 3 columns</p>\n",
       "</div>"
      ]
     },
     "execution_count": 25,
     "metadata": {},
     "output_type": "execute_result"
    }
   ],
   "execution_count": 25
  },
  {
   "metadata": {},
   "cell_type": "markdown",
   "source": "### 2.3 Creo una query y hago la búsqueda",
   "id": "939af4d8947ba81"
  },
  {
   "metadata": {
    "ExecuteTime": {
     "end_time": "2025-07-02T16:02:05.947747Z",
     "start_time": "2025-07-02T16:02:05.933646Z"
    }
   },
   "cell_type": "code",
   "source": "from sklearn.metrics.pairwise import cosine_similarity",
   "id": "f1bd0d57a5066571",
   "outputs": [],
   "execution_count": 28
  },
  {
   "metadata": {
    "ExecuteTime": {
     "end_time": "2025-07-02T16:38:15.120481Z",
     "start_time": "2025-07-02T16:38:15.077202Z"
    }
   },
   "cell_type": "code",
   "source": [
    "query = \"¿Quién descubrió América?\"\n",
    "query_emb = model.encode(query)\n",
    "print(query_emb)"
   ],
   "id": "4c6150ba13f13e3d",
   "outputs": [
    {
     "name": "stdout",
     "output_type": "stream",
     "text": [
      "[ 1.32415788e-02 -1.38535984e-02 -4.86043058e-02 -3.16161029e-02\n",
      " -3.19868959e-02 -3.69648039e-02  5.69050834e-02 -1.62796881e-02\n",
      " -2.64756382e-02  5.96109312e-03  5.33242524e-02 -3.47383730e-02\n",
      " -2.65685711e-02  2.55968347e-02 -1.81286428e-02 -7.60501204e-03\n",
      " -3.20969336e-02 -3.68653201e-02 -2.04010797e-03  2.25827452e-02\n",
      "  6.93910345e-02 -7.77236884e-03 -4.22271714e-02  1.10106841e-01\n",
      "  1.33998496e-02 -3.18524875e-02  7.74564743e-02  3.63411307e-02\n",
      " -3.05152051e-02 -2.70387437e-02 -9.34987236e-03  1.33743575e-02\n",
      "  6.63040429e-02  4.17424068e-02  3.16561460e-02 -1.99810546e-02\n",
      "  6.29395768e-02 -1.07368931e-01 -3.68436016e-02  4.76068631e-03\n",
      " -1.26932293e-01  3.25190078e-04  3.53902727e-02  2.19949409e-02\n",
      "  1.04914175e-03 -3.12276091e-02 -5.24926521e-02  1.80567771e-01\n",
      "  3.61488722e-02 -1.08434865e-02  5.39276376e-02  1.40397716e-02\n",
      "  2.37098597e-02  1.52820256e-02  5.85652702e-02  1.85835734e-02\n",
      "  2.10681204e-02 -4.72157709e-02  4.02341150e-02  4.79112118e-02\n",
      " -6.75087199e-02 -5.10276575e-03 -1.33686876e-02  6.55123889e-02\n",
      "  8.67016427e-03 -3.08520924e-02  4.78256457e-02  4.37294953e-02\n",
      " -7.87366405e-02  5.81626780e-02  1.07899837e-01 -1.81562752e-02\n",
      "  6.03609234e-02  8.41950849e-02 -6.58438914e-03 -2.23125443e-02\n",
      " -2.20414829e-02 -5.28340926e-03 -7.16954917e-02 -3.08975559e-02\n",
      "  1.52135650e-02  2.08343081e-02 -1.39157437e-02  2.70605460e-02\n",
      "  3.70979272e-02 -2.55220439e-02 -2.96383072e-02  7.08446233e-03\n",
      "  3.30693237e-02  6.22812379e-03 -1.57276895e-02  5.89868650e-02\n",
      " -4.08026241e-02  7.22152833e-03 -5.67350462e-02  1.30588701e-02\n",
      "  2.48964522e-02 -1.66521072e-02 -3.06991693e-02  6.71811402e-02\n",
      "  8.91338959e-02  3.35453115e-02  2.10460797e-02 -4.24191542e-02\n",
      " -3.13128158e-02  1.22210728e-02  3.14823203e-02  5.91018274e-02\n",
      "  5.13722487e-02 -1.90951191e-02 -5.93330860e-02 -4.25888002e-02\n",
      " -3.02586854e-02  3.61181609e-02 -5.73424175e-02 -6.77354187e-02\n",
      "  1.17298774e-01 -1.60891376e-02 -5.06921746e-02 -1.10126868e-01\n",
      "  5.18891364e-02  2.97193117e-02 -8.60009938e-02 -3.95248234e-02\n",
      " -1.03835817e-02 -4.84811850e-02  9.19740880e-04 -3.93995952e-34\n",
      "  1.09819807e-02 -1.17334902e-01 -5.09448573e-02  8.50041956e-02\n",
      " -2.68406495e-02  2.61211880e-02 -4.74529825e-02  5.10981418e-02\n",
      " -6.42679259e-02 -7.41797558e-04 -8.48556776e-03  3.27996863e-03\n",
      " -2.78178006e-02  9.49855670e-02  4.98296134e-02  7.25501850e-02\n",
      " -2.33377647e-02  1.79022253e-02  2.99561340e-02 -2.04366054e-02\n",
      " -6.31402130e-04  5.04893512e-02  1.69855431e-02  2.19449457e-02\n",
      "  1.24691408e-02  7.39399940e-02 -8.08257461e-02 -3.44026089e-02\n",
      " -3.08999978e-02  2.91534252e-02 -2.45593656e-02  1.25128208e-02\n",
      " -4.42705629e-03  2.46560443e-02  9.76275057e-02 -5.16432822e-02\n",
      "  5.40718734e-02  4.33427244e-02 -3.09831873e-02  3.47590707e-02\n",
      "  5.53904474e-02  4.74298187e-03 -4.89038639e-02 -2.49152929e-02\n",
      "  9.06831622e-02 -4.00943309e-02  8.80445838e-02  6.11199848e-02\n",
      "  1.76273584e-02 -1.50327180e-02  2.97242776e-02 -3.23568694e-02\n",
      " -9.60887037e-03 -8.18054453e-02  1.08901709e-02  1.10686347e-02\n",
      " -2.72691119e-02  1.63311660e-02  5.17756715e-02 -8.55054855e-02\n",
      " -5.32234833e-02  5.39144948e-02  3.68303470e-02 -5.69817843e-03\n",
      " -1.74750853e-02 -1.13977417e-02  2.80669108e-02  2.24674083e-02\n",
      "  5.30302711e-02  2.84142401e-02 -3.50387543e-02 -2.30301474e-03\n",
      "  3.03281937e-02  1.93892829e-02 -3.36114205e-02  3.85539830e-02\n",
      " -1.53748114e-02 -2.18216088e-02  3.72892544e-02 -4.26455997e-02\n",
      " -9.43293199e-02  2.79118568e-02  2.95227412e-02  3.85484360e-02\n",
      "  8.82383585e-02  1.11411244e-01  6.55952170e-02  2.96844188e-02\n",
      " -7.26426812e-03 -8.92674830e-03 -9.43171158e-02  3.45724225e-02\n",
      "  6.35182858e-02 -1.15072608e-01  5.27042933e-02 -1.30050900e-33\n",
      " -7.44877830e-02 -4.96083945e-02 -1.07652936e-02  2.56464705e-02\n",
      " -3.87030467e-03  8.28380790e-03 -7.02413917e-02  5.79549931e-02\n",
      " -2.91263796e-02 -1.31802440e-01  1.28804788e-03 -1.18895635e-01\n",
      "  1.04476191e-01  4.59297076e-02  1.44137116e-02  1.23996951e-01\n",
      "  5.10585904e-02 -5.13863228e-02 -1.29980102e-01 -5.87956905e-02\n",
      " -2.74181701e-02  9.77868307e-03  5.07124364e-02  2.85588093e-02\n",
      " -3.84367742e-02 -5.75201958e-02  7.29405135e-02  3.27978767e-02\n",
      "  5.53438067e-03  1.24337329e-02  2.41623949e-02 -5.35082945e-04\n",
      " -1.78985496e-03  8.64019170e-02 -1.03144258e-01  1.08602725e-01\n",
      " -1.62285324e-02  3.10472045e-02 -4.74842498e-03 -9.24125127e-03\n",
      " -5.03969155e-02  1.55240775e-03 -7.70607740e-02  6.11567423e-02\n",
      " -7.71840438e-02  3.17010917e-02 -4.68345098e-02 -9.05288979e-02\n",
      " -8.26320425e-02  2.97704618e-03  1.49322823e-02 -5.07955551e-02\n",
      " -3.99702080e-02 -8.00569193e-04  7.08463788e-03 -4.04907092e-02\n",
      " -1.34546086e-02 -1.85700953e-02 -1.29593406e-02 -2.00990893e-04\n",
      " -1.85507128e-03  1.54520757e-02 -4.71865833e-02 -2.26188134e-02\n",
      "  7.34961256e-02  1.92119318e-04 -1.56896412e-02  1.22136325e-01\n",
      "  6.32351413e-02  2.18691304e-02  1.17404632e-01  2.46148445e-02\n",
      " -1.31728709e-01 -5.71532026e-02 -5.40954508e-02  3.79803702e-02\n",
      " -5.87511249e-02  7.57920556e-03  2.89399289e-02  7.46008754e-02\n",
      " -1.91856157e-02 -3.50938551e-02 -2.66487654e-02  2.23516189e-02\n",
      " -4.97948937e-03 -2.52306685e-02 -7.95274302e-02  4.00933102e-02\n",
      "  4.43093553e-02  7.92518705e-02 -2.85662618e-02  2.39397283e-03\n",
      " -5.26874661e-02 -7.57417381e-02 -5.57864867e-02 -1.96401846e-08\n",
      " -5.11425249e-02 -2.20815837e-03 -3.79483700e-02  2.24450175e-02\n",
      "  8.89420696e-03 -5.11715263e-02 -6.72032088e-02  6.21092953e-02\n",
      "  1.12815751e-02  8.58976096e-02  2.89897528e-02 -5.61311133e-02\n",
      " -3.42061929e-02  1.54459970e-02 -5.83596900e-02  2.47855838e-02\n",
      "  3.67393345e-02  1.31712973e-01 -1.62660237e-02 -3.47007625e-02\n",
      "  6.19895682e-02  4.57547456e-02 -4.31624800e-02 -3.73504795e-02\n",
      " -2.42463946e-02  1.65406708e-02 -5.44918738e-02  3.39639895e-02\n",
      " -5.53975888e-02 -4.64923121e-02 -4.25340571e-02 -8.13320372e-03\n",
      " -1.04573824e-01 -3.78863364e-02 -2.76342500e-02 -1.76201239e-02\n",
      " -6.66865185e-02 -2.07603021e-04 -1.23777399e-02 -8.51059332e-02\n",
      "  5.42042442e-02  7.97820762e-02 -8.46080780e-02 -2.01694686e-02\n",
      " -2.38560271e-02 -8.46395716e-02 -9.92612727e-03  3.81390378e-02\n",
      " -2.88739558e-02  7.61715844e-02 -5.69456667e-02 -4.77171317e-02\n",
      "  4.06498201e-02  3.18534374e-02  7.09720179e-02 -2.13045650e-03\n",
      "  1.10905387e-01 -3.61838215e-03 -2.59306468e-02  2.39433926e-02\n",
      "  2.06548627e-02  4.35647815e-02  5.02412468e-02 -7.88787901e-02]\n"
     ]
    }
   ],
   "execution_count": 41
  },
  {
   "metadata": {
    "ExecuteTime": {
     "end_time": "2025-07-02T16:38:19.288528Z",
     "start_time": "2025-07-02T16:38:19.247970Z"
    }
   },
   "cell_type": "code",
   "source": [
    "import numpy as np\n",
    "\n",
    "embeddings_array = np.vstack(df['embeddings'].values)\n",
    "similarities = cosine_similarity(query_emb.reshape(1, -1), embeddings_array)"
   ],
   "id": "cbca1e6f95e98762",
   "outputs": [],
   "execution_count": 42
  },
  {
   "metadata": {},
   "cell_type": "markdown",
   "source": "Obtengo los 5 documentos más similares a mi query",
   "id": "d6b0a8f32632e705"
  },
  {
   "metadata": {
    "ExecuteTime": {
     "end_time": "2025-07-02T16:38:23.556844Z",
     "start_time": "2025-07-02T16:38:23.540900Z"
    }
   },
   "cell_type": "code",
   "source": [
    "top_k = 5\n",
    "top_indices = similarities[0].argsort()[-top_k:][::-1]\n",
    "df.iloc[top_indices][['page', 'raw']]"
   ],
   "id": "b5eef805020c0732",
   "outputs": [
    {
     "data": {
      "text/plain": [
       "     page                                                raw\n",
       "415   416  b'Online edition (c)\\n2009 Cambridge UP\\n17.1\\...\n",
       "515   516  b'Online edition (c)\\n2009 Cambridge UP\\n21.3\\...\n",
       "433   434  b'Online edition (c)\\n2009 Cambridge UP\\n17.7\\...\n",
       "571   572  b'Online edition (c)\\n2009 Cambridge UP\\nAutho...\n",
       "419   420  b'Online edition (c)\\n2009 Cambridge UP\\n17.2\\..."
      ],
      "text/html": [
       "<div>\n",
       "<style scoped>\n",
       "    .dataframe tbody tr th:only-of-type {\n",
       "        vertical-align: middle;\n",
       "    }\n",
       "\n",
       "    .dataframe tbody tr th {\n",
       "        vertical-align: top;\n",
       "    }\n",
       "\n",
       "    .dataframe thead th {\n",
       "        text-align: right;\n",
       "    }\n",
       "</style>\n",
       "<table border=\"1\" class=\"dataframe\">\n",
       "  <thead>\n",
       "    <tr style=\"text-align: right;\">\n",
       "      <th></th>\n",
       "      <th>page</th>\n",
       "      <th>raw</th>\n",
       "    </tr>\n",
       "  </thead>\n",
       "  <tbody>\n",
       "    <tr>\n",
       "      <th>415</th>\n",
       "      <td>416</td>\n",
       "      <td>b'Online edition (c)\\n2009 Cambridge UP\\n17.1\\...</td>\n",
       "    </tr>\n",
       "    <tr>\n",
       "      <th>515</th>\n",
       "      <td>516</td>\n",
       "      <td>b'Online edition (c)\\n2009 Cambridge UP\\n21.3\\...</td>\n",
       "    </tr>\n",
       "    <tr>\n",
       "      <th>433</th>\n",
       "      <td>434</td>\n",
       "      <td>b'Online edition (c)\\n2009 Cambridge UP\\n17.7\\...</td>\n",
       "    </tr>\n",
       "    <tr>\n",
       "      <th>571</th>\n",
       "      <td>572</td>\n",
       "      <td>b'Online edition (c)\\n2009 Cambridge UP\\nAutho...</td>\n",
       "    </tr>\n",
       "    <tr>\n",
       "      <th>419</th>\n",
       "      <td>420</td>\n",
       "      <td>b'Online edition (c)\\n2009 Cambridge UP\\n17.2\\...</td>\n",
       "    </tr>\n",
       "  </tbody>\n",
       "</table>\n",
       "</div>"
      ]
     },
     "execution_count": 43,
     "metadata": {},
     "output_type": "execute_result"
    }
   ],
   "execution_count": 43
  },
  {
   "metadata": {
    "ExecuteTime": {
     "end_time": "2025-07-02T16:38:39.982684Z",
     "start_time": "2025-07-02T16:38:39.975476Z"
    }
   },
   "cell_type": "code",
   "source": "context = \"\\n\\n\".join(df.iloc[top_indices]['raw'].values)",
   "id": "2d0923cdadbfe751",
   "outputs": [],
   "execution_count": 44
  },
  {
   "metadata": {
    "ExecuteTime": {
     "end_time": "2025-07-02T16:38:40.633825Z",
     "start_time": "2025-07-02T16:38:40.622218Z"
    }
   },
   "cell_type": "code",
   "source": "context",
   "id": "d70a52db801c1a28",
   "outputs": [
    {
     "data": {
      "text/plain": [
       "\"b'Online edition (c)\\\\n2009 Cambridge UP\\\\n17.1\\\\nHierarchical agglomerative clustering\\\\n379\\\\n1.0\\\\n0.8\\\\n0.6\\\\n0.4\\\\n0.2\\\\n0.0\\\\nAg trade reform.\\\\nBack\\\\xe2\\\\x88\\\\x92to\\\\xe2\\\\x88\\\\x92school spending is up\\\\nLloyd\\\\xe2\\\\x80\\\\x99s CEO questioned\\\\nLloyd\\\\xe2\\\\x80\\\\x99s chief / U.S. grilling\\\\nViag stays positive\\\\nChrysler / Latin America\\\\nOhio Blue Cross\\\\nJapanese prime minister / Mexico\\\\nCompuServe reports loss\\\\nSprint / Internet access service\\\\nPlanet Hollywood\\\\nTrocadero: tripling of revenues\\\\nGerman unions split\\\\nWar hero Colin Powell\\\\nWar hero Colin Powell\\\\nOil prices slip\\\\nChains may raise prices\\\\nClinton signs law\\\\nLawsuit against tobacco companies\\\\nsuits against tobacco firms\\\\nIndiana tobacco lawsuit\\\\nMost active stocks\\\\nMexican markets\\\\nHog prices tumble\\\\nNYSE closing averages\\\\nBritish FTSE index\\\\nFed holds interest rates steady\\\\nFed to keep interest rates steady\\\\nFed keeps interest rates steady\\\\nFed keeps interest rates steady\\\\n\\\\xe2\\\\x97\\\\xaeFigure 17.1\\\\nA dendrogram of a single-link clustering of 30 documents from\\\\nReuters-RCV1. Two possible cuts of the dendrogram are shown: at 0.4 into 24 clusters\\\\nand at 0.1 into 12 clusters.\\\\n'\\n\\nb'Online edition (c)\\\\n2009 Cambridge UP\\\\n21.3\\\\nHubs and Authorities\\\\n479\\\\n\\\\xe2\\\\x97\\\\xaeFigure 21.6\\\\nA sample run of HITS on the query japan elementary schools.\\\\nFigure 21.6 shows the results of running HITS on the query japan elemen-\\\\ntary schools. The \\\\xef\\\\xac\\\\x81gure shows the top hubs and authorities; each row lists the\\\\ntitle tag from the corresponding HTML page. Because the resulting string\\\\nis not necessarily in Latin characters, the resulting print is (in many cases)\\\\na string of gibberish. Each of these corresponds to a web page that does\\\\nnot use Latin characters, in this case very likely pages in Japanese. There\\\\nalso appear to be pages in other non-English languages, which seems sur-\\\\nprising given that the query string is in English. In fact, this result is em-\\\\nblematic of the functioning of HITS \\\\xe2\\\\x80\\\\x93 following the assembly of the root set,\\\\nthe (English) query string is ignored. The base set is likely to contain pages\\\\nin other languages, for instance if an English-language hub page links to\\\\nthe Japanese-language home pages of Japanese elementary schools. Because\\\\nthe subsequent computation of the top hubs and authorities is entirely link-\\\\nbased, some of these non-English pages will appear among the top hubs and\\\\nauthorities.\\\\n?\\\\nExercise 21.19\\\\nIf all the hub and authority scores are initialized to 1, what is the hub/authority score\\\\nof a node after one iteration?\\\\n'\\n\\nb'Online edition (c)\\\\n2009 Cambridge UP\\\\n17.7\\\\nCluster labeling\\\\n397\\\\nlabeling method\\\\n# docs\\\\ncentroid\\\\nmutual information\\\\ntitle\\\\n4\\\\n622\\\\noil plant mexico pro-\\\\nduction crude power\\\\n000 re\\\\xef\\\\xac\\\\x81nery gas bpd\\\\nplant\\\\noil\\\\nproduction\\\\nbarrels\\\\ncrude\\\\nbpd\\\\nmexico dolly capacity\\\\npetroleum\\\\nMEXICO:\\\\nHurri-\\\\ncane Dolly heads for\\\\nMexico coast\\\\n9\\\\n1017\\\\npolice security russian\\\\npeople military peace\\\\nkilled\\\\ntold\\\\ngrozny\\\\ncourt\\\\npolice killed military\\\\nsecurity\\\\npeace\\\\ntold\\\\ntroops\\\\nforces rebels\\\\npeople\\\\nRUSSIA:\\\\nRussia\\\\xe2\\\\x80\\\\x99s\\\\nLebed\\\\nmeets\\\\nrebel\\\\nchief in Chechnya\\\\n10\\\\n1259\\\\n00 000 tonnes traders\\\\nfutures wheat prices\\\\ncents\\\\nseptember\\\\ntonne\\\\ndelivery\\\\ntraders\\\\nfutures tonne tonnes\\\\ndesk wheat prices 000\\\\n00\\\\nUSA: Export Business\\\\n- Grain/oilseeds com-\\\\nplex\\\\n\\\\xe2\\\\x97\\\\xaeTable 17.2\\\\nAutomatically computed cluster labels. This is for three of ten clusters\\\\n(4, 9, and 10) in a K-means clustering of the \\\\xef\\\\xac\\\\x81rst 10,000 documents in Reuters-RCV1.\\\\nThe last three columns show cluster summaries computed by three labeling methods:\\\\nmost highly weighted terms in centroid (centroid), mutual information, and the title\\\\nof the document closest to the centroid of the cluster (title). Terms selected by only\\\\none of the \\\\xef\\\\xac\\\\x81rst two methods are in bold.\\\\nplay a role similar to a title since the anchor text pointing to a page can serve\\\\nas a concise summary of its contents.\\\\nIn Table 17.2, the title for cluster 9 suggests that many of its documents are\\\\nabout the Chechnya con\\\\xef\\\\xac\\\\x82ict, a fact the MI terms do not reveal. However, a\\\\nsingle document is unlikely to be representative of all documents in a cluster.\\\\nAn example is cluster 4, whose selected title is misleading. The main topic of\\\\nthe cluster is oil. Articles about hurricane Dolly only ended up in this cluster\\\\nbecause of its effect on oil prices.\\\\nWe can also use a list of terms with high weights in the centroid of the clus-\\\\nter as a label. Such highly weighted terms (or, even better, phrases, especially\\\\nnoun phrases) are often more representative of the cluster than a few titles\\\\ncan be, even if they are not \\\\xef\\\\xac\\\\x81ltered for distinctiveness as in the differential\\\\nmethods. However, a list of phrases takes more time to digest for users than\\\\na well crafted title.\\\\nCluster-internal methods are ef\\\\xef\\\\xac\\\\x81cient, but they fail to distinguish terms\\\\nthat are frequent in the collection as a whole from those that are frequent only\\\\nin the cluster. Terms like year or Tuesday may be among the most frequent in\\\\na cluster, but they are not helpful in understanding the contents of a cluster\\\\nwith a speci\\\\xef\\\\xac\\\\x81c topic like oil.\\\\nIn Table 17.2, the centroid method selects a few more uninformative terms\\\\n(000, court, cents, september) than MI (forces, desk), but most of the terms se-\\\\n'\\n\\nb'Online edition (c)\\\\n2009 Cambridge UP\\\\nAuthor Index\\\\n535\\\\nWilliams: Bahle et al. (2002), Garcia\\\\net al. (2004), Heinz et al. (2002),\\\\nLance and Williams (1967),\\\\nLester et al. (2006), Scholer et al.\\\\n(2002), Turpin et al. (2007),\\\\nWilliams and Zobel (2005),\\\\nWilliams et al. (2004)\\\\nWinograd: Page et al. (1998)\\\\nWitten: Witten and Bell (1990), Witten\\\\nand Frank (2005), Witten et al.\\\\n(1999)\\\\nWi\\\\xc3\\\\x9fbrock: Stein et al. (2003)\\\\nWong: Hartigan and Wong (1979),\\\\nWong et al. (1988)\\\\nWoodley: Woodley and Geva (2006)\\\\nWooster: Taube and Wooster (1958)\\\\nWorring: Smeulders et al. (2000)\\\\nWu: Gao et al. (2005), Gao et al. (2004)\\\\nXu: Cao et al. (2006), Ji and Xu (2006),\\\\nXu and Croft (1996), Xu and\\\\nCroft (1999)\\\\nYang: Ault and Yang (2002), Lewis\\\\net al. (2004), Li and Yang (2003),\\\\nLiu et al. (2005), Melnik et al.\\\\n(2001), Yang and Callan (2006),\\\\nYang (1994), Yang (1999), Yang\\\\n(2001), Yang and Kisiel (2003),\\\\nYang and Liu (1999), Yang and\\\\nPedersen (1997)\\\\nYao: Wong et al. (1988)\\\\nYiannis: Scholer et al. (2002)\\\\nYih: Ko\\\\xc5\\\\x82cz and Yih (2007)\\\\nYilmaz: Aslam and Yilmaz (2005)\\\\nYoung: Berry and Young (1995),\\\\nEckart and Young (1936)\\\\nYu: Hand and Yu (2001)\\\\nYue: Yue et al. (2007)\\\\nZamir: Zamir and Etzioni (1999)\\\\nZaragoza: Robertson et al. (2004),\\\\nTaylor et al. (2006), Zaragoza\\\\net al. (2003)\\\\nZavrel: Zavrel et al. (2000)\\\\nZeng: Liu et al. (2005)\\\\nZha: Zha et al. (2001)\\\\nZhai: Lafferty and Zhai (2001),\\\\nLafferty and Zhai (2003), Tao\\\\net al. (2006), Zhai and Lafferty\\\\n(2001a), Zhai and Lafferty\\\\n(2001b), Zhai and Lafferty (2002)\\\\nZhang: Qin et al. (2007), Radev et al.\\\\n(2001), Zhang et al. (2007), Zhang\\\\nand Oles (2001)\\\\nZhao: Zhao and Karypis (2002)\\\\nZheng: Ng et al. (2001b)\\\\nZien: Chapelle et al. (2006)\\\\nZipf: Zipf (1949)\\\\nZiviani: Badue et al. (2001), de Moura\\\\net al. (2000), Ribeiro-Neto et al.\\\\n(1999)\\\\nZobel: Bahle et al. (2002), Heinz and\\\\nZobel (2003), Heinz et al. (2002),\\\\nKaszkiel and Zobel (1997), Lester\\\\net al. (2005), Lester et al. (2006),\\\\nMoffat and Zobel (1992), Moffat\\\\nand Zobel (1996), Moffat and\\\\nZobel (1998), Persin et al. (1996),\\\\nScholer et al. (2002), Williams\\\\nand Zobel (2005), Williams et al.\\\\n(2004), Zobel (1998), Zobel and\\\\nDart (1995), Zobel and Dart\\\\n(1996), Zobel and Moffat (2006),\\\\nZobel et al. (1995)\\\\nZukowski: Zukowski et al. (2006)\\\\nZweig: Broder et al. (1997)\\\\nZwol: van Zwol et al. (2006)\\\\ndel Bimbo: del Bimbo (1999)\\\\n'\\n\\nb'Online edition (c)\\\\n2009 Cambridge UP\\\\n17.2\\\\nSingle-link and complete-link clustering\\\\n383\\\\n1.0\\\\n0.8\\\\n0.6\\\\n0.4\\\\n0.2\\\\n0.0\\\\nNYSE closing averages\\\\nHog prices tumble\\\\nOil prices slip\\\\nAg trade reform.\\\\nChrysler / Latin America\\\\nJapanese prime minister / Mexico\\\\nFed holds interest rates steady\\\\nFed to keep interest rates steady\\\\nFed keeps interest rates steady\\\\nFed keeps interest rates steady\\\\nMexican markets\\\\nBritish FTSE index\\\\nWar hero Colin Powell\\\\nWar hero Colin Powell\\\\nLloyd\\\\xe2\\\\x80\\\\x99s CEO questioned\\\\nLloyd\\\\xe2\\\\x80\\\\x99s chief / U.S. grilling\\\\nOhio Blue Cross\\\\nLawsuit against tobacco companies\\\\nsuits against tobacco firms\\\\nIndiana tobacco lawsuit\\\\nViag stays positive\\\\nMost active stocks\\\\nCompuServe reports loss\\\\nSprint / Internet access service\\\\nPlanet Hollywood\\\\nTrocadero: tripling of revenues\\\\nBack\\\\xe2\\\\x88\\\\x92to\\\\xe2\\\\x88\\\\x92school spending is up\\\\nGerman unions split\\\\nChains may raise prices\\\\nClinton signs law\\\\n\\\\xe2\\\\x97\\\\xaeFigure 17.5\\\\nA dendrogram of a complete-link clustering. The same 30 documents\\\\nwere clustered with single-link clustering in Figure 17.1.\\\\n'\""
      ]
     },
     "execution_count": 45,
     "metadata": {},
     "output_type": "execute_result"
    }
   ],
   "execution_count": 45
  },
  {
   "metadata": {
    "ExecuteTime": {
     "end_time": "2025-07-02T16:38:42.148294Z",
     "start_time": "2025-07-02T16:38:42.136282Z"
    }
   },
   "cell_type": "code",
   "source": [
    "prompt = f\"\"\"Eres una aplicación de Retrieval Augmented Generation que siempre responde en español. Usa el siguiente contexto para responder la pregunta. \n",
    "Si la respuesta no está en el contexto, di que no sabes.\n",
    "\n",
    "Contexto:\n",
    "{context}\n",
    "\n",
    "Pregunta:\n",
    "El usuario está preguntando sobre: {query}\n",
    "\"\"\""
   ],
   "id": "c3549c85abe69517",
   "outputs": [],
   "execution_count": 46
  },
  {
   "metadata": {
    "ExecuteTime": {
     "end_time": "2025-07-02T16:38:44.705888Z",
     "start_time": "2025-07-02T16:38:43.057770Z"
    }
   },
   "cell_type": "code",
   "source": [
    "response = client.responses.create(\n",
    "    model=\"gpt-4.1\",\n",
    "    temperature=0.3,\n",
    "    input=prompt\n",
    ")\n",
    "\n",
    "print(response.output_text)"
   ],
   "id": "6b05c3021a26066e",
   "outputs": [
    {
     "name": "stdout",
     "output_type": "stream",
     "text": [
      "No lo sé.\n"
     ]
    }
   ],
   "execution_count": 47
  },
  {
   "metadata": {},
   "cell_type": "code",
   "outputs": [],
   "execution_count": null,
   "source": "",
   "id": "6dc2a16ecdab7c0c"
  }
 ],
 "metadata": {
  "kernelspec": {
   "display_name": "Python 3",
   "language": "python",
   "name": "python3"
  },
  "language_info": {
   "codemirror_mode": {
    "name": "ipython",
    "version": 2
   },
   "file_extension": ".py",
   "mimetype": "text/x-python",
   "name": "python",
   "nbconvert_exporter": "python",
   "pygments_lexer": "ipython2",
   "version": "2.7.6"
  }
 },
 "nbformat": 4,
 "nbformat_minor": 5
}
