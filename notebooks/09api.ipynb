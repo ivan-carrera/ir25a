{
 "cells": [
  {
   "metadata": {},
   "cell_type": "markdown",
   "source": [
    "# Ejercicio 9: Uso de la API de OpenAI\n",
    "\n",
    "En este ejercicio vamos a aprender a utilizar la API de OpenAI\n",
    "\n",
    "## 1. Uso básico\n",
    "\n",
    "El siguiente código sirve para conectarse con la API de OpenAI de forma básica"
   ],
   "id": "dcd16efe7639ac05"
  },
  {
   "metadata": {
    "ExecuteTime": {
     "end_time": "2025-06-30T15:01:20.635542Z",
     "start_time": "2025-06-30T15:01:15.081739Z"
    }
   },
   "cell_type": "code",
   "source": "from openai import OpenAI",
   "id": "e1a6608515f3af8d",
   "outputs": [],
   "execution_count": 1
  },
  {
   "metadata": {
    "ExecuteTime": {
     "end_time": "2025-06-30T15:04:15.453281Z",
     "start_time": "2025-06-30T15:04:15.438757Z"
    }
   },
   "cell_type": "code",
   "source": "OPENAI_API_KEY = ''",
   "id": "1256f3aece432150",
   "outputs": [],
   "execution_count": 4
  },
  {
   "metadata": {
    "ExecuteTime": {
     "end_time": "2025-06-30T15:04:38.357038Z",
     "start_time": "2025-06-30T15:04:38.179573Z"
    }
   },
   "cell_type": "code",
   "source": "client = OpenAI(api_key=OPENAI_API_KEY)",
   "id": "c3d2c27b99469e63",
   "outputs": [],
   "execution_count": 6
  },
  {
   "cell_type": "code",
   "id": "initial_id",
   "metadata": {
    "collapsed": true,
    "ExecuteTime": {
     "end_time": "2025-06-30T15:04:45.995198Z",
     "start_time": "2025-06-30T15:04:41.412793Z"
    }
   },
   "source": [
    "response = client.responses.create(\n",
    "    model=\"gpt-4.1\",\n",
    "    input=\"Write a one-sentence bedtime story about a unicorn.\"\n",
    ")\n",
    "\n",
    "print(response.output_text)"
   ],
   "outputs": [
    {
     "name": "stdout",
     "output_type": "stream",
     "text": [
      "Under a silver moon, a gentle unicorn named Luna tiptoed through a field of starlight flowers, sprinkling sweet dreams wherever her sparkling hooves touched the ground.\n"
     ]
    }
   ],
   "execution_count": 7
  },
  {
   "metadata": {},
   "cell_type": "markdown",
   "source": "## 2. Retrieval",
   "id": "3a30de61bd443d1d"
  },
  {
   "metadata": {},
   "cell_type": "markdown",
   "source": "### 2.1 Cargo el corpus de 20 News Groups",
   "id": "5488be80d85df276"
  },
  {
   "metadata": {
    "ExecuteTime": {
     "end_time": "2025-06-30T15:14:54.799009Z",
     "start_time": "2025-06-30T15:14:47.902617Z"
    }
   },
   "cell_type": "code",
   "source": [
    "from sklearn.datasets import fetch_20newsgroups\n",
    "\n",
    "newsgroups = fetch_20newsgroups(subset='all', remove=('headers', 'footers', 'quotes'))\n",
    "newsgroupsdocs = newsgroups.data"
   ],
   "id": "36aa2a96f75e4a43",
   "outputs": [],
   "execution_count": 8
  },
  {
   "metadata": {
    "ExecuteTime": {
     "end_time": "2025-06-30T15:18:59.251446Z",
     "start_time": "2025-06-30T15:18:56.977276Z"
    }
   },
   "cell_type": "code",
   "source": "import pandas as pd",
   "id": "68de24abf65fad27",
   "outputs": [],
   "execution_count": 9
  },
  {
   "metadata": {
    "ExecuteTime": {
     "end_time": "2025-06-30T15:52:17.309817Z",
     "start_time": "2025-06-30T15:52:17.298433Z"
    }
   },
   "cell_type": "code",
   "source": [
    "newsgroups_df = pd.DataFrame(newsgroupsdocs, columns=['raw'])\n",
    "newsgroups_df"
   ],
   "id": "9cb5d03822623a4",
   "outputs": [
    {
     "data": {
      "text/plain": [
       "                                                                                                                                                                                                                                                                                                                                                                                                                                                                                                                                                                                                                                                                                                                                                                                                                                                                                                                                                                                                                                                                                                                                                                                                                                                                                                                                                                                                                                                                                                                                                                                                                                                                                                                                                                                                                                                                                                              raw\n",
       "0                                                                                                                                                                                                                                                                                                                                                                                                                                                                                                                                                                                                                                                                                                                                                                                                                                                                                                                                                                                                                                                                                                                                                            \\n\\nI am sure some bashers of Pens fans are pretty confused about the lack\\nof any kind of posts about the recent Pens massacre of the Devils. Actually,\\nI am  bit puzzled too and a bit relieved. However, I am going to put an end\\nto non-PIttsburghers' relief with a bit of praise for the Pens. Man, they\\nare killing those Devils worse than I thought. Jagr just showed you why\\nhe is much better than his regular season stats. He is also a lot\\nfo fun to watch in the playoffs. Bowman should let JAgr have a lot of\\nfun in the next couple of games since the Pens are going to beat the pulp out of Jersey anyway. I was very disappointed not to see the Islanders lose the final\\nregular season game.          PENS RULE!!!\\n\\n\n",
       "1                                                                                                                                                                                                                                                                                                                                                                                                                                                                                                                                                                                                                                                                                                                                                                                                                                                                                                                                                                                                                                                                                                                                                                                                                                                                                                                                                                                                                                                                                                                                                             My brother is in the market for a high-performance video card that supports\\nVESA local bus with 1-2MB RAM.  Does anyone have suggestions/ideas on:\\n\\n  - Diamond Stealth Pro Local Bus\\n\\n  - Orchid Farenheit 1280\\n\\n  - ATI Graphics Ultra Pro\\n\\n  - Any other high-performance VLB card\\n\\n\\nPlease post or email.  Thank you!\\n\\n  - Matt\\n\n",
       "2      \\n\\n\\n\\n\\tFinally you said what you dream about. Mediterranean???? That was new....\\n\\tThe area will be \"greater\" after some years, like your \"holocaust\" numbers......\\n\\n\\n\\n\\n\\t\\t*****\\n\\tIs't July in USA now????? Here in Sweden it's April and still cold.\\n\\tOr have you changed your calendar???\\n\\n\\n\\t\\t\\t\\t\\t\\t    ****************\\n\\t\\t\\t\\t\\t\\t    ******************\\n\\t\\t\\t    ***************\\n\\n\\n\\tNOTHING OF THE MENTIONED IS TRUE, BUT LET SAY IT's TRUE.\\n\\t\\n\\tSHALL THE AZERI WOMEN AND CHILDREN GOING TO PAY THE PRICE WITH\\n\\t\\t\\t\\t\\t\\t    **************\\n\\tBEING RAPED, KILLED AND TORTURED BY THE ARMENIANS??????????\\n\\t\\n\\tHAVE YOU HEARDED SOMETHING CALLED: \"GENEVA CONVENTION\"???????\\n\\tYOU FACIST!!!!!\\n\\n\\n\\n\\tOhhh i forgot, this is how Armenians fight, nobody has forgot\\n\\tyou killings, rapings and torture against the Kurds and Turks once\\n\\tupon a time!\\n      \\n       \\n\\n\\nOhhhh so swedish RedCross workers do lie they too? What ever you say\\n\"regional killer\", if you don't like the person then shoot him that's your policy.....l\\n\\n\\n\\t\\t\\t\\t\\t\\t\\t\\t\\t\\ti\\n\\t\\t\\t\\t\\t\\t\\t\\t\\t\\ti\\n\\t\\t\\t\\t\\t\\t\\t\\t\\t\\ti\\n\\tConfused?????\\t\\t\\t\\t\\t\\t\\t\\ti\\n\\t\\t\\t\\t\\t\\t\\t\\t\\t\\ti\\n        Search Turkish planes? You don't know what you are talking about.\\ti\\n        Turkey's government has announced that it's giving weapons  <-----------i\\n        to Azerbadjan since Armenia started to attack Azerbadjan\\t\\t\\n        it self, not the Karabag province. So why search a plane for weapons\\t\\n        since it's content is announced to be weapons?   \\n\\n\\tIf there is one that's confused then that's you! We have the right (and we do)\\n\\tto give weapons to the Azeris, since Armenians started the fight in Azerbadjan!\\n \\n\\n\\n\\tShoot down with what? Armenian bread and butter? Or the arms and personel \\n\\tof the Russian army?\\n\\n\\n\n",
       "3                                                                                                                                                                                                                                                                                                                                                                                                                                                                                                                                                                                                                                                                                                                                                                                                                                                                                                                                                                                                                                                                                  \\nThink!\\n\\nIt's the SCSI card doing the DMA transfers NOT the disks...\\n\\nThe SCSI card can do DMA transfers containing data from any of the SCSI devices\\nit is attached when it wants to.\\n\\nAn important feature of SCSI is the ability to detach a device. This frees the\\nSCSI bus for other devices. This is typically used in a multi-tasking OS to\\nstart transfers on several devices. While each device is seeking the data the\\nbus is free for other commands and data transfers. When the devices are\\nready to transfer the data they can aquire the bus and send the data.\\n\\nOn an IDE bus when you start a transfer the bus is busy until the disk has seeked\\nthe data and transfered it. This is typically a 10-20ms second lock out for other\\nprocesses wanting the bus irrespective of transfer time.\\n\n",
       "4                                                                                                                                                                                                                                                                                                                                                                                                                                                                                                                                                                                                                                                                                                                                                                                                                                                                                                                                                                                                                                                                                                                                                                                                            1)    I have an old Jasmine drive which I cannot use with my new system.\\n My understanding is that I have to upsate the driver with a more modern\\none in order to gain compatability with system 7.0.1.  does anyone know\\nof an inexpensive program to do this?  ( I have seen formatters for <$20\\nbuit have no idea if they will work)\\n \\n2)     I have another ancient device, this one a tape drive for which\\nthe back utility freezes the system if I try to use it.  THe drive is a\\njasmine direct tape (bought used for $150 w/ 6 tapes, techmar\\nmechanism).  Essentially I have the same question as above, anyone know\\nof an inexpensive beckup utility I can use with system 7.0.1\n",
       "...                                                                                                                                                                                                                                                                                                                                                                                                                                                                                                                                                                                                                                                                                                                                                                                                                                                                                                                                                                                                                                                                                                                                                                                                                                                                                                                                                                                                                                                                                                                                                                                                                                                                                                                                                                                                                                                                                                           ...\n",
       "18841                     DN> From: nyeda@cnsvax.uwec.edu (David Nye)\\nDN> A neurology\\nDN> consultation is cheaper than a scan.\\n\\nAnd also better, because a neurologist can make a differential\\ndiagnosis between migraine, tension-type headache, cluster, benign\\nintracranial hypertension, chronic paroxysmal hemicrania, and other\\nheadache syndromes that all appear normal on a scan.  A neurologist\\ncan also recommend a course of treatment that is appropriate to the\\ndiagnosis.\\n\\nDN> >>Also, since many people are convinced they have brain tumors or other\\nDN> >>serious pathology, it may be cheaper to just get a CT scan then have\\nDN> >>them come into the ER every few weeks.\\nDN> And easier than taking the time to reassure the patient, right?\\nDN> Personally, I don't think this can ever be justified.\\n\\nSigh.  It may never be justifiable, but I sometimes do it.  Even\\nafter I try to show thoroughness with a detailed history, neurologic\\nexamination, and discussion with the patient about my diagnosis,\\nsalted with lots of reassurance, patients still ask \"why can't you\\norder a scan, so we can be absolutely sure?\"  Aunt Millie often gets\\ninto the conversation, as in \"they ignored Aunt Millie's headaches\\nfor years\", and then she died of a brain tumor, aneurysm, or\\nwhatever.  If you can get away without ever ordering imaging for a\\npatient with an obviously benign headache syndrome, I'd like to hear\\nwhat your magic is.\\n\\nEvery once in a while I am able to bypass imaging by getting an EEG.\\nMind you, I don't think EEG is terribly sensitive for brain tumor,\\nbut the patient feels like \"something is being done\" (as if the\\nhours I spent talking with and examining the patient were\\n\"nothing\"), the EEG has no ionizing radiation, it's *much* cheaper\\nthan CT or MRI, and the EEG brings in some money to my department.\n",
       "18842                                                                                                                                                                                                                                                                                                                                                                                                                                                                                                                                                                                                                                                                                                                                                                                                                                                                                                                                                                                                                                                                                                                                                                                                                                                                                                                                                                                                                                                                                                                                                                                                                                                                                                                          \\nNot in isolated ground recepticles (usually an unusual color, such as orange\\nor yellow) often used in low noise, low leakage applications, as mentioned\\nearlier in the thread.\n",
       "18843                                                                                                                                                                                                                                                                                                                                                                                                                                                                                                                                                                                                                                                                                                                                                                                                                                                                                                                                                                                                                                                                                                                                                                                                                                                                                             I just installed a DX2-66 CPU in a clone motherboard, and tried mounting a CPU \\ncooler on the chip.  After about 1/2 hour, the weight of the cooler was enough \\nto dislodge the CPU from its mount.  It ended up bending a few pins\\non the CPU, but luckily the power was not on yet.  I ended up\\npressing the CPU deeply into its socket and then putting the CPU\\ncooler back on.  So far so good.\\n\\nHave others had this problem?  How do you ensure that the weight of\\nthe CPU fan and heatsink do not eventually work the CPU out of its\\nsocket when mounting the motherboard in a vertical case?\\n\n",
       "18844                                                                                                                                                                                                                                                                                                                                                                                                                                                                                                                                                                                                                                                                                                                                                                                                                                                                                                                                                                                                                                                                                                                                                                                                                                                                                                                                                                                                                                                                                                                                                                         \\nWouldn't this require a hyper-sphere.  In 3-space, 4 points over specifies\\na sphere as far as I can see.  Unless that is you can prove that a point\\nexists in 3-space that is equi-distant from the 4 points, and this may not\\nnecessarily happen.\\n\\nCorrect me if I'm wrong (which I quite possibly am!)\\n\\nsteve\\n---\\n\\n\\n\n",
       "18845                                                                                                                                                                                                                                    After a tip from Gary Crum (crum@fcom.cc.utah.edu) I got on the Phone\\nwith \"Pontiac Systems\" or \"Pontaic Customer Service\" or whatever, and\\ninquired about a rumoured Production Hold on the Formula Firebird and\\nTrans Am.  BTW, Talking with the dealer I bought the car from got me\\nnowhere.  After being routed to a \"Firebird Specialist\", I was able\\nto confirm that this is in fact the case.\\n\\nAt first, there was some problem with the 3:23 performance axle ratio.\\nShe wouldn't go into any details, so I don't know if there were some\\nshipped that had problems, or if production was held up because they\\nsimply didn't have the proper parts from the supplier.  As I say, she\\nwas pretty vague on that, so if anyone else knows anything about this,\\nfeel free to respond.  Supposedly, this problem is now solved.\\n\\nSecond, there is a definate shortage of parts that is somehow related\\nto the six-speed Manual transmission.  So as of this posting, there is\\na production hold on these cars.  She claimed part of the delay was\\nnot wanting to use inferior quality parts for the car, and therefore\\nhaving to wait for the right high quality parts...  I'm not positive\\nthat this applies to the Camaro as well, but I'm guessing it would.\\n\\nCan anyone else shed some light on this?\\n\\nChris S.\\n-- \\n--------------------------------------------------------------------------------\\nChris Silvester      | \"Any man capable of getting himself elected President\\nchriss@sam.amgen.com |  should by no means be allowed to do the job\"\\nchriss@netcom.com    |   - Douglas Adams, The Hitchhiker's Guide to the Galaxy\n",
       "\n",
       "[18846 rows x 1 columns]"
      ],
      "text/html": [
       "<div>\n",
       "<style scoped>\n",
       "    .dataframe tbody tr th:only-of-type {\n",
       "        vertical-align: middle;\n",
       "    }\n",
       "\n",
       "    .dataframe tbody tr th {\n",
       "        vertical-align: top;\n",
       "    }\n",
       "\n",
       "    .dataframe thead th {\n",
       "        text-align: right;\n",
       "    }\n",
       "</style>\n",
       "<table border=\"1\" class=\"dataframe\">\n",
       "  <thead>\n",
       "    <tr style=\"text-align: right;\">\n",
       "      <th></th>\n",
       "      <th>raw</th>\n",
       "    </tr>\n",
       "  </thead>\n",
       "  <tbody>\n",
       "    <tr>\n",
       "      <th>0</th>\n",
       "      <td>\\n\\nI am sure some bashers of Pens fans are pretty confused about the lack\\nof any kind of posts about the recent Pens massacre of the Devils. Actually,\\nI am  bit puzzled too and a bit relieved. However, I am going to put an end\\nto non-PIttsburghers' relief with a bit of praise for the Pens. Man, they\\nare killing those Devils worse than I thought. Jagr just showed you why\\nhe is much better than his regular season stats. He is also a lot\\nfo fun to watch in the playoffs. Bowman should let JAgr have a lot of\\nfun in the next couple of games since the Pens are going to beat the pulp out of Jersey anyway. I was very disappointed not to see the Islanders lose the final\\nregular season game.          PENS RULE!!!\\n\\n</td>\n",
       "    </tr>\n",
       "    <tr>\n",
       "      <th>1</th>\n",
       "      <td>My brother is in the market for a high-performance video card that supports\\nVESA local bus with 1-2MB RAM.  Does anyone have suggestions/ideas on:\\n\\n  - Diamond Stealth Pro Local Bus\\n\\n  - Orchid Farenheit 1280\\n\\n  - ATI Graphics Ultra Pro\\n\\n  - Any other high-performance VLB card\\n\\n\\nPlease post or email.  Thank you!\\n\\n  - Matt\\n</td>\n",
       "    </tr>\n",
       "    <tr>\n",
       "      <th>2</th>\n",
       "      <td>\\n\\n\\n\\n\\tFinally you said what you dream about. Mediterranean???? That was new....\\n\\tThe area will be \"greater\" after some years, like your \"holocaust\" numbers......\\n\\n\\n\\n\\n\\t\\t*****\\n\\tIs't July in USA now????? Here in Sweden it's April and still cold.\\n\\tOr have you changed your calendar???\\n\\n\\n\\t\\t\\t\\t\\t\\t    ****************\\n\\t\\t\\t\\t\\t\\t    ******************\\n\\t\\t\\t    ***************\\n\\n\\n\\tNOTHING OF THE MENTIONED IS TRUE, BUT LET SAY IT's TRUE.\\n\\t\\n\\tSHALL THE AZERI WOMEN AND CHILDREN GOING TO PAY THE PRICE WITH\\n\\t\\t\\t\\t\\t\\t    **************\\n\\tBEING RAPED, KILLED AND TORTURED BY THE ARMENIANS??????????\\n\\t\\n\\tHAVE YOU HEARDED SOMETHING CALLED: \"GENEVA CONVENTION\"???????\\n\\tYOU FACIST!!!!!\\n\\n\\n\\n\\tOhhh i forgot, this is how Armenians fight, nobody has forgot\\n\\tyou killings, rapings and torture against the Kurds and Turks once\\n\\tupon a time!\\n      \\n       \\n\\n\\nOhhhh so swedish RedCross workers do lie they too? What ever you say\\n\"regional killer\", if you don't like the person then shoot him that's your policy.....l\\n\\n\\n\\t\\t\\t\\t\\t\\t\\t\\t\\t\\ti\\n\\t\\t\\t\\t\\t\\t\\t\\t\\t\\ti\\n\\t\\t\\t\\t\\t\\t\\t\\t\\t\\ti\\n\\tConfused?????\\t\\t\\t\\t\\t\\t\\t\\ti\\n\\t\\t\\t\\t\\t\\t\\t\\t\\t\\ti\\n        Search Turkish planes? You don't know what you are talking about.\\ti\\n        Turkey's government has announced that it's giving weapons  &lt;-----------i\\n        to Azerbadjan since Armenia started to attack Azerbadjan\\t\\t\\n        it self, not the Karabag province. So why search a plane for weapons\\t\\n        since it's content is announced to be weapons?   \\n\\n\\tIf there is one that's confused then that's you! We have the right (and we do)\\n\\tto give weapons to the Azeris, since Armenians started the fight in Azerbadjan!\\n \\n\\n\\n\\tShoot down with what? Armenian bread and butter? Or the arms and personel \\n\\tof the Russian army?\\n\\n\\n</td>\n",
       "    </tr>\n",
       "    <tr>\n",
       "      <th>3</th>\n",
       "      <td>\\nThink!\\n\\nIt's the SCSI card doing the DMA transfers NOT the disks...\\n\\nThe SCSI card can do DMA transfers containing data from any of the SCSI devices\\nit is attached when it wants to.\\n\\nAn important feature of SCSI is the ability to detach a device. This frees the\\nSCSI bus for other devices. This is typically used in a multi-tasking OS to\\nstart transfers on several devices. While each device is seeking the data the\\nbus is free for other commands and data transfers. When the devices are\\nready to transfer the data they can aquire the bus and send the data.\\n\\nOn an IDE bus when you start a transfer the bus is busy until the disk has seeked\\nthe data and transfered it. This is typically a 10-20ms second lock out for other\\nprocesses wanting the bus irrespective of transfer time.\\n</td>\n",
       "    </tr>\n",
       "    <tr>\n",
       "      <th>4</th>\n",
       "      <td>1)    I have an old Jasmine drive which I cannot use with my new system.\\n My understanding is that I have to upsate the driver with a more modern\\none in order to gain compatability with system 7.0.1.  does anyone know\\nof an inexpensive program to do this?  ( I have seen formatters for &lt;$20\\nbuit have no idea if they will work)\\n \\n2)     I have another ancient device, this one a tape drive for which\\nthe back utility freezes the system if I try to use it.  THe drive is a\\njasmine direct tape (bought used for $150 w/ 6 tapes, techmar\\nmechanism).  Essentially I have the same question as above, anyone know\\nof an inexpensive beckup utility I can use with system 7.0.1</td>\n",
       "    </tr>\n",
       "    <tr>\n",
       "      <th>...</th>\n",
       "      <td>...</td>\n",
       "    </tr>\n",
       "    <tr>\n",
       "      <th>18841</th>\n",
       "      <td>DN&gt; From: nyeda@cnsvax.uwec.edu (David Nye)\\nDN&gt; A neurology\\nDN&gt; consultation is cheaper than a scan.\\n\\nAnd also better, because a neurologist can make a differential\\ndiagnosis between migraine, tension-type headache, cluster, benign\\nintracranial hypertension, chronic paroxysmal hemicrania, and other\\nheadache syndromes that all appear normal on a scan.  A neurologist\\ncan also recommend a course of treatment that is appropriate to the\\ndiagnosis.\\n\\nDN&gt; &gt;&gt;Also, since many people are convinced they have brain tumors or other\\nDN&gt; &gt;&gt;serious pathology, it may be cheaper to just get a CT scan then have\\nDN&gt; &gt;&gt;them come into the ER every few weeks.\\nDN&gt; And easier than taking the time to reassure the patient, right?\\nDN&gt; Personally, I don't think this can ever be justified.\\n\\nSigh.  It may never be justifiable, but I sometimes do it.  Even\\nafter I try to show thoroughness with a detailed history, neurologic\\nexamination, and discussion with the patient about my diagnosis,\\nsalted with lots of reassurance, patients still ask \"why can't you\\norder a scan, so we can be absolutely sure?\"  Aunt Millie often gets\\ninto the conversation, as in \"they ignored Aunt Millie's headaches\\nfor years\", and then she died of a brain tumor, aneurysm, or\\nwhatever.  If you can get away without ever ordering imaging for a\\npatient with an obviously benign headache syndrome, I'd like to hear\\nwhat your magic is.\\n\\nEvery once in a while I am able to bypass imaging by getting an EEG.\\nMind you, I don't think EEG is terribly sensitive for brain tumor,\\nbut the patient feels like \"something is being done\" (as if the\\nhours I spent talking with and examining the patient were\\n\"nothing\"), the EEG has no ionizing radiation, it's *much* cheaper\\nthan CT or MRI, and the EEG brings in some money to my department.</td>\n",
       "    </tr>\n",
       "    <tr>\n",
       "      <th>18842</th>\n",
       "      <td>\\nNot in isolated ground recepticles (usually an unusual color, such as orange\\nor yellow) often used in low noise, low leakage applications, as mentioned\\nearlier in the thread.</td>\n",
       "    </tr>\n",
       "    <tr>\n",
       "      <th>18843</th>\n",
       "      <td>I just installed a DX2-66 CPU in a clone motherboard, and tried mounting a CPU \\ncooler on the chip.  After about 1/2 hour, the weight of the cooler was enough \\nto dislodge the CPU from its mount.  It ended up bending a few pins\\non the CPU, but luckily the power was not on yet.  I ended up\\npressing the CPU deeply into its socket and then putting the CPU\\ncooler back on.  So far so good.\\n\\nHave others had this problem?  How do you ensure that the weight of\\nthe CPU fan and heatsink do not eventually work the CPU out of its\\nsocket when mounting the motherboard in a vertical case?\\n</td>\n",
       "    </tr>\n",
       "    <tr>\n",
       "      <th>18844</th>\n",
       "      <td>\\nWouldn't this require a hyper-sphere.  In 3-space, 4 points over specifies\\na sphere as far as I can see.  Unless that is you can prove that a point\\nexists in 3-space that is equi-distant from the 4 points, and this may not\\nnecessarily happen.\\n\\nCorrect me if I'm wrong (which I quite possibly am!)\\n\\nsteve\\n---\\n\\n\\n</td>\n",
       "    </tr>\n",
       "    <tr>\n",
       "      <th>18845</th>\n",
       "      <td>After a tip from Gary Crum (crum@fcom.cc.utah.edu) I got on the Phone\\nwith \"Pontiac Systems\" or \"Pontaic Customer Service\" or whatever, and\\ninquired about a rumoured Production Hold on the Formula Firebird and\\nTrans Am.  BTW, Talking with the dealer I bought the car from got me\\nnowhere.  After being routed to a \"Firebird Specialist\", I was able\\nto confirm that this is in fact the case.\\n\\nAt first, there was some problem with the 3:23 performance axle ratio.\\nShe wouldn't go into any details, so I don't know if there were some\\nshipped that had problems, or if production was held up because they\\nsimply didn't have the proper parts from the supplier.  As I say, she\\nwas pretty vague on that, so if anyone else knows anything about this,\\nfeel free to respond.  Supposedly, this problem is now solved.\\n\\nSecond, there is a definate shortage of parts that is somehow related\\nto the six-speed Manual transmission.  So as of this posting, there is\\na production hold on these cars.  She claimed part of the delay was\\nnot wanting to use inferior quality parts for the car, and therefore\\nhaving to wait for the right high quality parts...  I'm not positive\\nthat this applies to the Camaro as well, but I'm guessing it would.\\n\\nCan anyone else shed some light on this?\\n\\nChris S.\\n-- \\n--------------------------------------------------------------------------------\\nChris Silvester      | \"Any man capable of getting himself elected President\\nchriss@sam.amgen.com |  should by no means be allowed to do the job\"\\nchriss@netcom.com    |   - Douglas Adams, The Hitchhiker's Guide to the Galaxy</td>\n",
       "    </tr>\n",
       "  </tbody>\n",
       "</table>\n",
       "<p>18846 rows × 1 columns</p>\n",
       "</div>"
      ]
     },
     "execution_count": 22,
     "metadata": {},
     "output_type": "execute_result"
    }
   ],
   "execution_count": 22
  },
  {
   "metadata": {},
   "cell_type": "markdown",
   "source": "### 2.2 Transformo a embeddings",
   "id": "16237cc6ae2f7853"
  },
  {
   "metadata": {
    "ExecuteTime": {
     "end_time": "2025-06-30T15:23:52.724516Z",
     "start_time": "2025-06-30T15:23:42.106168Z"
    }
   },
   "cell_type": "code",
   "source": [
    "from sentence_transformers import SentenceTransformer\n",
    "import numpy as np"
   ],
   "id": "9888767f058bd4d0",
   "outputs": [
    {
     "name": "stderr",
     "output_type": "stream",
     "text": [
      "C:\\ProgramData\\Anaconda3\\lib\\site-packages\\sentence_transformers\\cross_encoder\\CrossEncoder.py:11: TqdmExperimentalWarning: Using `tqdm.autonotebook.tqdm` in notebook mode. Use `tqdm.tqdm` instead to force console mode (e.g. in jupyter console)\n",
      "  from tqdm.autonotebook import tqdm, trange\n"
     ]
    }
   ],
   "execution_count": 12
  },
  {
   "metadata": {
    "ExecuteTime": {
     "end_time": "2025-06-30T15:31:24.743558Z",
     "start_time": "2025-06-30T15:31:23.367069Z"
    }
   },
   "cell_type": "code",
   "source": "model = SentenceTransformer('all-MiniLM-L6-v2')",
   "id": "8ab49dfaf7f79330",
   "outputs": [
    {
     "name": "stderr",
     "output_type": "stream",
     "text": [
      "C:\\ProgramData\\Anaconda3\\lib\\site-packages\\transformers\\tokenization_utils_base.py:1601: FutureWarning: `clean_up_tokenization_spaces` was not set. It will be set to `True` by default. This behavior will be depracted in transformers v4.45, and will be then set to `False` by default. For more details check this issue: https://github.com/huggingface/transformers/issues/31884\n",
      "  warnings.warn(\n"
     ]
    }
   ],
   "execution_count": 16
  },
  {
   "metadata": {
    "ExecuteTime": {
     "end_time": "2025-06-30T15:49:21.143296Z",
     "start_time": "2025-06-30T15:31:42.747232Z"
    }
   },
   "cell_type": "code",
   "source": "embeddings = model.encode(newsgroupsdocs)",
   "id": "d99039d161688034",
   "outputs": [],
   "execution_count": 17
  },
  {
   "metadata": {
    "ExecuteTime": {
     "end_time": "2025-06-30T15:49:21.158996Z",
     "start_time": "2025-06-30T15:49:21.143296Z"
    }
   },
   "cell_type": "code",
   "source": "embeddings",
   "id": "832a90a6c7a8e078",
   "outputs": [
    {
     "data": {
      "text/plain": [
       "array([[ 0.00207798,  0.02345042,  0.02480885, ...,  0.0014359 ,\n",
       "         0.0151075 ,  0.0528758 ],\n",
       "       [ 0.0500603 ,  0.02698093, -0.00886483, ..., -0.0088717 ,\n",
       "        -0.06737082,  0.05656359],\n",
       "       [ 0.01640468,  0.08100048, -0.04953597, ..., -0.04184627,\n",
       "        -0.07800218, -0.0313095 ],\n",
       "       ...,\n",
       "       [-0.00509084,  0.01817272,  0.04388077, ...,  0.01331368,\n",
       "        -0.05997062, -0.05430663],\n",
       "       [ 0.03508158, -0.05842971, -0.03385155, ..., -0.02824297,\n",
       "        -0.05223113,  0.03760364],\n",
       "       [-0.06498063, -0.01133726,  0.03949648, ..., -0.03573753,\n",
       "         0.07217911,  0.02192114]], dtype=float32)"
      ]
     },
     "execution_count": 18,
     "metadata": {},
     "output_type": "execute_result"
    }
   ],
   "execution_count": 18
  },
  {
   "metadata": {
    "ExecuteTime": {
     "end_time": "2025-06-30T15:53:40.647931Z",
     "start_time": "2025-06-30T15:53:40.427301Z"
    }
   },
   "cell_type": "code",
   "source": [
    "newsgroups_df['embeddings'] = embeddings.tolist()\n",
    "newsgroups_df"
   ],
   "id": "b84cd67574514f4",
   "outputs": [
    {
     "data": {
      "text/plain": [
       "                                                                                                                                                                                                                                                                                                                                                                                                                                                                                                                                                                                                                                                                                                                                                                                                                                                                                                                                                                                                                                                                                                                                                                                                                                                                                                                                                                                                                                                                                                                                                                                                                                                                                                                                                                                                                                                                                                              raw  \\\n",
       "0                                                                                                                                                                                                                                                                                                                                                                                                                                                                                                                                                                                                                                                                                                                                                                                                                                                                                                                                                                                                                                                                                                                                                            \\n\\nI am sure some bashers of Pens fans are pretty confused about the lack\\nof any kind of posts about the recent Pens massacre of the Devils. Actually,\\nI am  bit puzzled too and a bit relieved. However, I am going to put an end\\nto non-PIttsburghers' relief with a bit of praise for the Pens. Man, they\\nare killing those Devils worse than I thought. Jagr just showed you why\\nhe is much better than his regular season stats. He is also a lot\\nfo fun to watch in the playoffs. Bowman should let JAgr have a lot of\\nfun in the next couple of games since the Pens are going to beat the pulp out of Jersey anyway. I was very disappointed not to see the Islanders lose the final\\nregular season game.          PENS RULE!!!\\n\\n   \n",
       "1                                                                                                                                                                                                                                                                                                                                                                                                                                                                                                                                                                                                                                                                                                                                                                                                                                                                                                                                                                                                                                                                                                                                                                                                                                                                                                                                                                                                                                                                                                                                                             My brother is in the market for a high-performance video card that supports\\nVESA local bus with 1-2MB RAM.  Does anyone have suggestions/ideas on:\\n\\n  - Diamond Stealth Pro Local Bus\\n\\n  - Orchid Farenheit 1280\\n\\n  - ATI Graphics Ultra Pro\\n\\n  - Any other high-performance VLB card\\n\\n\\nPlease post or email.  Thank you!\\n\\n  - Matt\\n   \n",
       "2      \\n\\n\\n\\n\\tFinally you said what you dream about. Mediterranean???? That was new....\\n\\tThe area will be \"greater\" after some years, like your \"holocaust\" numbers......\\n\\n\\n\\n\\n\\t\\t*****\\n\\tIs't July in USA now????? Here in Sweden it's April and still cold.\\n\\tOr have you changed your calendar???\\n\\n\\n\\t\\t\\t\\t\\t\\t    ****************\\n\\t\\t\\t\\t\\t\\t    ******************\\n\\t\\t\\t    ***************\\n\\n\\n\\tNOTHING OF THE MENTIONED IS TRUE, BUT LET SAY IT's TRUE.\\n\\t\\n\\tSHALL THE AZERI WOMEN AND CHILDREN GOING TO PAY THE PRICE WITH\\n\\t\\t\\t\\t\\t\\t    **************\\n\\tBEING RAPED, KILLED AND TORTURED BY THE ARMENIANS??????????\\n\\t\\n\\tHAVE YOU HEARDED SOMETHING CALLED: \"GENEVA CONVENTION\"???????\\n\\tYOU FACIST!!!!!\\n\\n\\n\\n\\tOhhh i forgot, this is how Armenians fight, nobody has forgot\\n\\tyou killings, rapings and torture against the Kurds and Turks once\\n\\tupon a time!\\n      \\n       \\n\\n\\nOhhhh so swedish RedCross workers do lie they too? What ever you say\\n\"regional killer\", if you don't like the person then shoot him that's your policy.....l\\n\\n\\n\\t\\t\\t\\t\\t\\t\\t\\t\\t\\ti\\n\\t\\t\\t\\t\\t\\t\\t\\t\\t\\ti\\n\\t\\t\\t\\t\\t\\t\\t\\t\\t\\ti\\n\\tConfused?????\\t\\t\\t\\t\\t\\t\\t\\ti\\n\\t\\t\\t\\t\\t\\t\\t\\t\\t\\ti\\n        Search Turkish planes? You don't know what you are talking about.\\ti\\n        Turkey's government has announced that it's giving weapons  <-----------i\\n        to Azerbadjan since Armenia started to attack Azerbadjan\\t\\t\\n        it self, not the Karabag province. So why search a plane for weapons\\t\\n        since it's content is announced to be weapons?   \\n\\n\\tIf there is one that's confused then that's you! We have the right (and we do)\\n\\tto give weapons to the Azeris, since Armenians started the fight in Azerbadjan!\\n \\n\\n\\n\\tShoot down with what? Armenian bread and butter? Or the arms and personel \\n\\tof the Russian army?\\n\\n\\n   \n",
       "3                                                                                                                                                                                                                                                                                                                                                                                                                                                                                                                                                                                                                                                                                                                                                                                                                                                                                                                                                                                                                                                                                  \\nThink!\\n\\nIt's the SCSI card doing the DMA transfers NOT the disks...\\n\\nThe SCSI card can do DMA transfers containing data from any of the SCSI devices\\nit is attached when it wants to.\\n\\nAn important feature of SCSI is the ability to detach a device. This frees the\\nSCSI bus for other devices. This is typically used in a multi-tasking OS to\\nstart transfers on several devices. While each device is seeking the data the\\nbus is free for other commands and data transfers. When the devices are\\nready to transfer the data they can aquire the bus and send the data.\\n\\nOn an IDE bus when you start a transfer the bus is busy until the disk has seeked\\nthe data and transfered it. This is typically a 10-20ms second lock out for other\\nprocesses wanting the bus irrespective of transfer time.\\n   \n",
       "4                                                                                                                                                                                                                                                                                                                                                                                                                                                                                                                                                                                                                                                                                                                                                                                                                                                                                                                                                                                                                                                                                                                                                                                                            1)    I have an old Jasmine drive which I cannot use with my new system.\\n My understanding is that I have to upsate the driver with a more modern\\none in order to gain compatability with system 7.0.1.  does anyone know\\nof an inexpensive program to do this?  ( I have seen formatters for <$20\\nbuit have no idea if they will work)\\n \\n2)     I have another ancient device, this one a tape drive for which\\nthe back utility freezes the system if I try to use it.  THe drive is a\\njasmine direct tape (bought used for $150 w/ 6 tapes, techmar\\nmechanism).  Essentially I have the same question as above, anyone know\\nof an inexpensive beckup utility I can use with system 7.0.1   \n",
       "...                                                                                                                                                                                                                                                                                                                                                                                                                                                                                                                                                                                                                                                                                                                                                                                                                                                                                                                                                                                                                                                                                                                                                                                                                                                                                                                                                                                                                                                                                                                                                                                                                                                                                                                                                                                                                                                                                                           ...   \n",
       "18841                     DN> From: nyeda@cnsvax.uwec.edu (David Nye)\\nDN> A neurology\\nDN> consultation is cheaper than a scan.\\n\\nAnd also better, because a neurologist can make a differential\\ndiagnosis between migraine, tension-type headache, cluster, benign\\nintracranial hypertension, chronic paroxysmal hemicrania, and other\\nheadache syndromes that all appear normal on a scan.  A neurologist\\ncan also recommend a course of treatment that is appropriate to the\\ndiagnosis.\\n\\nDN> >>Also, since many people are convinced they have brain tumors or other\\nDN> >>serious pathology, it may be cheaper to just get a CT scan then have\\nDN> >>them come into the ER every few weeks.\\nDN> And easier than taking the time to reassure the patient, right?\\nDN> Personally, I don't think this can ever be justified.\\n\\nSigh.  It may never be justifiable, but I sometimes do it.  Even\\nafter I try to show thoroughness with a detailed history, neurologic\\nexamination, and discussion with the patient about my diagnosis,\\nsalted with lots of reassurance, patients still ask \"why can't you\\norder a scan, so we can be absolutely sure?\"  Aunt Millie often gets\\ninto the conversation, as in \"they ignored Aunt Millie's headaches\\nfor years\", and then she died of a brain tumor, aneurysm, or\\nwhatever.  If you can get away without ever ordering imaging for a\\npatient with an obviously benign headache syndrome, I'd like to hear\\nwhat your magic is.\\n\\nEvery once in a while I am able to bypass imaging by getting an EEG.\\nMind you, I don't think EEG is terribly sensitive for brain tumor,\\nbut the patient feels like \"something is being done\" (as if the\\nhours I spent talking with and examining the patient were\\n\"nothing\"), the EEG has no ionizing radiation, it's *much* cheaper\\nthan CT or MRI, and the EEG brings in some money to my department.   \n",
       "18842                                                                                                                                                                                                                                                                                                                                                                                                                                                                                                                                                                                                                                                                                                                                                                                                                                                                                                                                                                                                                                                                                                                                                                                                                                                                                                                                                                                                                                                                                                                                                                                                                                                                                                                          \\nNot in isolated ground recepticles (usually an unusual color, such as orange\\nor yellow) often used in low noise, low leakage applications, as mentioned\\nearlier in the thread.   \n",
       "18843                                                                                                                                                                                                                                                                                                                                                                                                                                                                                                                                                                                                                                                                                                                                                                                                                                                                                                                                                                                                                                                                                                                                                                                                                                                                                             I just installed a DX2-66 CPU in a clone motherboard, and tried mounting a CPU \\ncooler on the chip.  After about 1/2 hour, the weight of the cooler was enough \\nto dislodge the CPU from its mount.  It ended up bending a few pins\\non the CPU, but luckily the power was not on yet.  I ended up\\npressing the CPU deeply into its socket and then putting the CPU\\ncooler back on.  So far so good.\\n\\nHave others had this problem?  How do you ensure that the weight of\\nthe CPU fan and heatsink do not eventually work the CPU out of its\\nsocket when mounting the motherboard in a vertical case?\\n   \n",
       "18844                                                                                                                                                                                                                                                                                                                                                                                                                                                                                                                                                                                                                                                                                                                                                                                                                                                                                                                                                                                                                                                                                                                                                                                                                                                                                                                                                                                                                                                                                                                                                                         \\nWouldn't this require a hyper-sphere.  In 3-space, 4 points over specifies\\na sphere as far as I can see.  Unless that is you can prove that a point\\nexists in 3-space that is equi-distant from the 4 points, and this may not\\nnecessarily happen.\\n\\nCorrect me if I'm wrong (which I quite possibly am!)\\n\\nsteve\\n---\\n\\n\\n   \n",
       "18845                                                                                                                                                                                                                                    After a tip from Gary Crum (crum@fcom.cc.utah.edu) I got on the Phone\\nwith \"Pontiac Systems\" or \"Pontaic Customer Service\" or whatever, and\\ninquired about a rumoured Production Hold on the Formula Firebird and\\nTrans Am.  BTW, Talking with the dealer I bought the car from got me\\nnowhere.  After being routed to a \"Firebird Specialist\", I was able\\nto confirm that this is in fact the case.\\n\\nAt first, there was some problem with the 3:23 performance axle ratio.\\nShe wouldn't go into any details, so I don't know if there were some\\nshipped that had problems, or if production was held up because they\\nsimply didn't have the proper parts from the supplier.  As I say, she\\nwas pretty vague on that, so if anyone else knows anything about this,\\nfeel free to respond.  Supposedly, this problem is now solved.\\n\\nSecond, there is a definate shortage of parts that is somehow related\\nto the six-speed Manual transmission.  So as of this posting, there is\\na production hold on these cars.  She claimed part of the delay was\\nnot wanting to use inferior quality parts for the car, and therefore\\nhaving to wait for the right high quality parts...  I'm not positive\\nthat this applies to the Camaro as well, but I'm guessing it would.\\n\\nCan anyone else shed some light on this?\\n\\nChris S.\\n-- \\n--------------------------------------------------------------------------------\\nChris Silvester      | \"Any man capable of getting himself elected President\\nchriss@sam.amgen.com |  should by no means be allowed to do the job\"\\nchriss@netcom.com    |   - Douglas Adams, The Hitchhiker's Guide to the Galaxy   \n",
       "\n",
       "                                                                                                                                                                                                                                                                                                                                                                                                                                                                                                                                                                                                                                                                                                                                                                                                                                                                                                                                                                                                                                                                                                                                                                                                                                                                                                                                                                                                                                                                                                                                                                                                                                                                                                                                                                                                                                                                                                                                                                                                                                                                                                                                                                                                                                                                                                 embeddings  \n",
       "0                   [0.0020779806654900312, 0.023450423032045364, 0.0248088538646698, -0.010110200382769108, 0.04626138508319855, -0.019038811326026917, 0.06198830157518387, 0.049166589975357056, 0.026586145162582397, -0.009346400387585163, -0.0995098128914833, 0.039723265916109085, -0.05520962178707123, 0.02532419189810753, 0.02993602119386196, -0.019566623494029045, -0.06086605787277222, 0.015870140865445137, 0.025333929806947708, 0.04593871906399727, -0.014141423627734184, -0.007948887534439564, 0.021375149488449097, -0.010109618306159973, 0.10089989751577377, 0.013225837610661983, 0.009944065473973751, 0.06498442590236664, 0.03594978153705597, 0.00901051890105009, -0.04935517907142639, 0.028428280726075172, 0.016662482172250748, -0.07036454230546951, 0.028897425159811974, -0.012783491052687168, -0.016234586015343666, -0.029597068205475807, 0.0011979435803368688, 0.014751930721104145, 0.03274708241224289, 0.032700762152671814, -0.05388153716921806, -0.03434458374977112, 0.03882075473666191, -0.012894239276647568, -0.05786341056227684, -0.0505731925368309, 0.03648444637656212, -0.018551280722022057, -0.01095627062022686, -0.02363397181034088, 0.08503755182027817, -0.09827034920454025, 0.031581610441207886, 0.04195931553840637, -0.021482951939105988, -0.042930107563734055, 0.053916092962026596, -0.05952071771025658, 0.01013813354074955, -0.032480884343385696, 0.010553351603448391, -0.02959611266851425, 0.0004697918484453112, -0.09880625456571579, -0.026160571724176407, 0.02296098694205284, -0.04312822222709656, 0.02622532658278942, -0.019712431356310844, -0.010354968719184399, 0.042277295142412186, -0.006570827215909958, -0.030795490369200706, 0.04320602864027023, -0.07308743894100189, 0.006203257944434881, 0.01119457371532917, 0.007411148864775896, 0.10606396198272705, -0.06050681322813034, 0.06793943047523499, 0.016275765374302864, 0.04428844153881073, 0.058031484484672546, -0.031718138605356216, -0.056659016758203506, -0.025036487728357315, 0.05003930255770683, 0.014551944099366665, 0.04476001486182213, 0.03421919420361519, -0.04272487387061119, 0.020178569480776787, 0.017915284261107445, 0.04712974280118942, 0.07437659054994583, -0.037066735327243805, 0.0917411744594574, ...]  \n",
       "1                   [0.05006030201911926, 0.026980925351381302, -0.008864834904670715, -0.03594672307372093, 0.008585928939282894, 0.014310572296380997, -0.043572429567575455, 0.05393943190574646, -0.02893824316561222, -0.03812522068619728, -0.023232141509652138, 0.030122751370072365, -0.06470972299575806, -0.034228041768074036, 0.023131970316171646, 0.056054435670375824, 0.17435193061828613, 0.028424914926290512, 0.06454820185899734, 0.0008050971664488316, 0.01627497188746929, -0.028615452349185944, -0.005918028298765421, 0.03216960281133652, 0.035599905997514725, 0.0005109071498736739, 0.024383164942264557, 0.011950208805501461, -0.02083015628159046, -0.04016748443245888, 0.007029742933809757, 0.015071472153067589, -0.014022598043084145, 0.05105030536651611, -0.0032477930653840303, -0.013901530764997005, -0.04027160629630089, -0.007475163787603378, -0.043223440647125244, -0.068543940782547, 0.009921164251863956, 0.0515609048306942, -0.014713939279317856, -0.06937339156866074, 0.06824517250061035, -0.020183773711323738, 0.06208808720111847, 0.014667317271232605, -0.004694014322012663, -0.0443885400891304, 0.03445644676685333, -0.06254462897777557, 0.007531453389674425, -0.04136563092470169, -0.09212184697389603, -0.0384112149477005, -0.04700572416186333, -0.061582546681165695, -0.024371838197112083, 0.052663203328847885, 0.03206480294466019, -0.02185075730085373, 0.02793755941092968, 0.01758098602294922, -0.0708162859082222, 0.006732630077749491, -0.028143858537077904, 0.01030525378882885, 0.02919979766011238, -0.01215458195656538, 0.0034686168655753136, 0.03605575114488602, -0.038285985589027405, 0.04422120749950409, -0.04703765735030174, -0.017303725704550743, 0.045961055904626846, -0.018503280356526375, 0.07935106754302979, -0.05002693459391594, -0.04347652196884155, -0.06412394344806671, -0.040090933442115784, -0.048432715237140656, 0.05336444452404976, -0.03972543776035309, -0.03460651636123657, -0.018360109999775887, -0.04370339959859848, -0.08127411454916, 0.04157400503754616, 0.09838320314884186, 0.06465426087379456, 0.03393971547484398, 0.014633997343480587, -0.032688044011592865, -0.003691313089802861, -0.1311696618795395, -0.06077457591891289, 0.03400186449289322, ...]  \n",
       "2                 [0.01640467904508114, 0.08100047707557678, -0.049535974860191345, -0.008988258428871632, -0.005216411780565977, -0.047913968563079834, -0.0006763286655768752, -0.09834540635347366, 0.04788842424750328, -0.001703754416666925, -0.018502885475754738, -0.02935972809791565, -0.05073871836066246, 0.03239167109131813, -0.012809829786419868, 0.0038331211544573307, -0.09630896896123886, 0.010022209957242012, -0.07322248816490173, 0.04108535870909691, -0.03079775907099247, -0.04126427322626114, 0.03523436188697815, 0.07550795376300812, 0.011151126585900784, 0.029052281752228737, 0.05486911162734032, 0.011354655027389526, -0.039063192903995514, 0.10649161785840988, 0.004502441734075546, 0.05118211358785629, -0.03542829304933548, -0.020120425149798393, 0.026249568909406662, -0.00018744445696938783, 0.021330242976546288, -0.09676535427570343, -0.05553128942847252, -0.002565189031884074, 0.07654982805252075, -0.04767024889588356, -0.028361134231090546, 0.019970476627349854, -0.008493746630847454, 0.06651375442743301, -0.04417906329035759, 0.002878512954339385, -0.06151604652404785, 0.01997043564915657, -0.090932697057724, -0.015487867407500744, 0.0379343219101429, -0.09236763417720795, -0.06525174528360367, -0.03920050337910652, -0.012862739153206348, -0.0395338200032711, -0.03898823633790016, -0.007550662383437157, -0.007605013903230429, 0.026650218293070793, -0.012986474670469761, 0.021617526188492775, -0.0267435684800148, -0.05630116164684296, 0.0315023697912693, 0.026863601058721542, -0.01992611773312092, 0.025155626237392426, -0.05867007002234459, 0.022083859890699387, -0.018683072179555893, 0.005287440959364176, 0.010521884076297283, -0.04399899020791054, -0.025762151926755905, -0.046264030039310455, 0.05990658327937126, -0.04032737389206886, 0.11776912212371826, -0.062462128698825836, 0.06417292356491089, -0.09453245997428894, 0.014416252262890339, -0.03754546865820885, 0.124518021941185, -0.017548291012644768, 0.09235043823719025, -0.004130957648158073, 0.08547874540090561, 0.007557057309895754, 0.09580066800117493, 0.0151409562677145, 0.11626602709293365, 0.025419823825359344, -0.005990597419440746, 0.045323021709918976, -0.05327305570244789, 0.03351309895515442, ...]  \n",
       "3          [-0.019391465932130814, 0.011494359001517296, -0.014787303283810616, -0.022933168336749077, 0.05093548819422722, -0.052905336022377014, 0.05779892951250076, 0.03248053044080734, 0.11237554997205734, 0.010390309616923332, 0.019510289654135704, 0.08260710537433624, -0.006704244762659073, -0.056390658020973206, -0.023965420201420784, -0.060182876884937286, -0.03902745246887207, -0.08156494051218033, -0.0673464685678482, 0.055287815630435944, 0.09329129010438919, 0.03387709707021713, -0.09663421660661697, 0.03148898109793663, -0.030939823016524315, 0.0033007143065333366, 0.07434257864952087, -0.04249726980924606, -0.02801152691245079, 0.020079296082258224, -0.02316579967737198, 0.033851258456707, -0.019787970930337906, 0.020520152524113655, -0.05670640245079994, -0.00852528028190136, 0.035922225564718246, 0.009035290218889713, -0.010708565823733807, -0.11887422949075699, 0.061648301780223846, 0.021809512749314308, -0.049027759581804276, -0.005246859509497881, -0.016911117359995842, -0.023372631520032883, -0.07295501977205276, -0.025615323334932327, -0.06413336098194122, -0.049474429339170456, -0.033431388437747955, -0.022359151393175125, -0.01702001504600048, 0.07311902940273285, 0.026624582707881927, 0.043676819652318954, 0.06906332820653915, -0.019068105146288872, 0.013659973628818989, 0.050193559378385544, -0.02880030870437622, -0.017067354172468185, 0.03354479372501373, -0.01754658669233322, 0.09886956214904785, -0.05603565275669098, 0.04702148586511612, -0.01035394985228777, -0.00681255292147398, -0.07908619195222855, 0.027941184118390083, 0.034655217081308365, -0.002954167313873768, 0.03592193126678467, 0.042368948459625244, -0.04485245794057846, -0.03043544478714466, -0.00332184717990458, 0.021733485162258148, -0.15472441911697388, 0.019112881273031235, 0.036418549716472626, 0.05246715992689133, -0.013942799530923367, -0.012375322170555592, 0.015393867157399654, -0.07532507926225662, -0.003772867377847433, 0.0303359255194664, -0.0381259024143219, 0.061628106981515884, 0.04333996772766113, -0.09400445967912674, -0.00863728765398264, 0.02634265273809433, -0.05376752093434334, 0.0024090802762657404, -0.02898082323372364, 0.008596444502472878, -0.000915630953386426, ...]  \n",
       "4      [-0.039287082850933075, -0.05540283024311066, -0.07453615218400955, -0.012671733275055885, -0.026080161333084106, 0.03754240646958351, -0.06934485584497452, 0.04461108148097992, -0.1400669366121292, -0.006606714334338903, 0.0037844812031835318, 0.06766185909509659, 0.02123982459306717, 0.006521960254758596, -0.0289500430226326, -0.022696884348988533, 0.03009445033967495, -0.013876293785870075, 0.07033936679363251, -0.01258132979273796, -0.06855092197656631, 0.021749982610344887, -0.01145828329026699, 0.046416960656642914, -0.012965478003025055, -0.10702753812074661, 0.033712271600961685, -0.03097117505967617, -0.03481776639819145, -0.08934728801250458, -0.02751046232879162, -0.041179485619068146, 0.020749809220433235, -0.07229528576135635, 0.001572985085658729, -0.023840006440877914, 0.11153968423604965, -0.021408800035715103, -0.05693706125020981, -0.06464028358459473, 0.031159572303295135, -0.035139329731464386, -0.04247468709945679, -0.04039396345615387, -0.05808478593826294, -0.03599442541599274, 0.018502838909626007, -0.0015862892614677548, 0.05709424614906311, 0.010962776839733124, -0.08726956695318222, -0.050815097987651825, -0.012750132009387016, -0.012162611819803715, 0.02353387326002121, -0.03170965611934662, 0.044080592691898346, 0.09925379604101181, -0.0413302518427372, 0.050458699464797974, -0.010570124723017216, 0.007578612770885229, 0.013413012959063053, -0.0016806349158287048, -0.013348903506994247, 0.02402421459555626, -0.03297322615981102, 0.029871147125959396, -0.030809292569756508, -0.026292212307453156, -0.11420782655477524, -0.01400059275329113, 0.02750047855079174, -0.011170027777552605, 0.017761478200554848, -0.010018998757004738, 0.03410552442073822, 0.01202342752367258, -0.03534277528524399, -0.008951254189014435, -0.05463416129350662, -0.004173959605395794, -0.0751948431134224, 0.06280601769685745, -0.030968014150857925, 0.031084254384040833, -0.044791944324970245, 0.023766882717609406, 0.07713520526885986, -0.017130637541413307, 0.05505969002842903, 0.00915401428937912, 0.034198228269815445, 0.02044001966714859, -0.03637160733342171, 0.04874807968735695, 0.09489256888628006, 0.0036898667458444834, 0.0030097952112555504, 0.059919171035289764, ...]  \n",
       "...                                                                                                                                                                                                                                                                                                                                                                                                                                                                                                                                                                                                                                                                                                                                                                                                                                                                                                                                                                                                                                                                                                                                                                                                                                                                                                                                                                                                                                                                                                                                                                                                                                                                                                                                                                                                                                                                                                                                                                                                                                                                                                                                                                                                                                                                                                     ...  \n",
       "18841               [-0.03691378980875015, -0.008604884147644043, 0.006938297767192125, -0.005752657074481249, -0.09471739083528519, -0.053154975175857544, 0.029373962432146072, 0.039984915405511856, 0.010503003373742104, -0.06053527817130089, -0.027487553656101227, -0.014133610762655735, -0.009005561470985413, 0.06303651630878448, -0.11353534460067749, -0.016285911202430725, 0.013680730946362019, -0.05538405850529671, 0.04627625644207001, 0.12331681698560715, -0.1378690004348755, 0.04525962099432945, -0.057221945375204086, 0.028332645073533058, -0.029405100271105766, 0.014628824777901173, 0.018443724140524864, -0.08071751892566681, -0.016546491533517838, 0.033706340938806534, 0.04667055979371071, 0.008797445334494114, -0.10058705508708954, 0.01529453881084919, 0.07948806881904602, 0.027297399938106537, -0.06456787884235382, 0.0763462707400322, -0.06003135070204735, 0.05546732619404793, -0.03579280525445938, 0.022296326234936714, -0.0533602312207222, 0.026805900037288666, -0.02543959952890873, -0.021378900855779648, 0.01087904442101717, -0.02224273979663849, -0.010265418328344822, -0.007713248021900654, 0.03468916192650795, -0.06152402237057686, -0.01992998644709587, -0.012977861799299717, -0.016537796705961227, 0.049699295312166214, -0.00915667973458767, -0.011510125361382961, -0.06754329055547714, 0.09815257787704468, -0.041192036122083664, 0.0018804236315190792, -0.01704566739499569, -0.044950876384973526, 0.05530250072479248, 0.12547451257705688, -0.012479941360652447, -0.06063161790370941, 0.03535200282931328, 0.06764943152666092, 0.033013440668582916, 0.017530128359794617, 0.01936861127614975, 0.016839316114783287, -0.03510019928216934, -0.06430461257696152, 0.06367804110050201, -0.02504625916481018, 0.061491966247558594, -0.05006052181124687, 0.017213724553585052, 0.19401228427886963, 0.05460130423307419, -0.007748905103653669, 0.0608530156314373, 0.01680722087621689, 0.019711934030056, 0.031744103878736496, 0.03076816350221634, -0.013871812261641026, 0.10755714029073715, -0.0028000352904200554, -0.08601246774196625, -0.06283174455165863, 0.1149536669254303, -0.0064301686361432076, -0.018225982785224915, -0.02401323802769184, 0.034134987741708755, 0.005178837571293116, ...]  \n",
       "18842                  [-0.012171657755970955, -0.05613766238093376, 0.00018241540237795562, 0.0019089969573542476, 0.034444838762283325, -0.047169093042612076, 0.11501921713352203, -0.02279495820403099, 0.045466892421245575, -0.08042419701814651, 0.0392274409532547, 0.04150564968585968, 0.009622514247894287, 0.019276821985840797, -0.04377087950706482, 0.03721211850643158, 0.02415890246629715, -0.020615847781300545, 0.04427909851074219, -0.0027451461646705866, -0.05976525694131851, 0.06152383238077164, -0.012593653984367847, -0.010685956105589867, -0.038786906749010086, -0.05476870760321617, 0.03636578842997551, 0.04031774029135704, 0.011988413520157337, -0.07354479283094406, -0.006603293586522341, -0.03284197673201561, -0.0012440651189535856, -0.05661403387784958, 0.06347519159317017, -0.021212678402662277, 0.03297002241015434, 0.02993725799024105, 0.05081287398934364, 0.0929846316576004, 0.04487423226237297, -0.04546992480754852, 0.09314196556806564, -0.04025557264685631, -0.02098885551095009, -0.0018804033752530813, -0.0005663586780428886, -0.13714830577373505, -0.019389620050787926, -0.07775657624006271, 0.09566304087638855, -0.043590247631073, 0.050425510853528976, 0.05546875670552254, 0.04986225441098213, -0.01566866785287857, 0.029327567666769028, -0.038484837859869, 0.01466729398816824, 0.04165191948413849, 0.04025964438915253, -0.016479451209306717, -0.034847442060709, -0.019561760127544403, 0.06084170565009117, 0.026750899851322174, -0.0076949759386479855, -0.07471007853746414, 0.11326989531517029, -0.10790373384952545, -0.009999883361160755, 0.013373277150094509, 0.031325846910476685, -0.047902561724185944, -0.013532244600355625, 0.1100144013762474, -0.014530022628605366, 0.04220058396458626, -0.03555146977305412, 0.010532921180129051, 0.02848649024963379, 0.008398548699915409, -0.028201330453157425, -0.07360098510980606, 0.06675470620393753, 0.04705975949764252, -0.011199215427041054, -0.04831792786717415, -0.14045925438404083, -0.033380843698978424, 0.017541615292429924, 0.04007190093398094, -0.038781408220529556, 0.03993980586528778, -0.0621800571680069, -0.012221016921103, -0.025091849267482758, -0.03706222027540207, -0.015868673101067543, 0.006488026585429907, ...]  \n",
       "18843                            [-0.005090844351798296, 0.018172720447182655, 0.04388076812028885, 0.06111885607242584, -0.03752025589346886, -0.11153042316436768, -0.031541310250759125, 0.02300034649670124, 0.007378667127341032, -0.03550330176949501, 0.021884050220251083, 0.03158945217728615, -0.024084199219942093, 0.035392876714468, -0.057098522782325745, -0.00022859549790155143, 0.03917586803436279, 0.054468341171741486, -0.00479046069085598, -0.01032129768282175, -0.034637853503227234, -0.09666122496128082, -0.09290151298046112, 0.0236793365329504, 0.05299260839819908, 0.053077712655067444, 0.06216135621070862, 0.05059319734573364, 0.02446030080318451, 0.0472293384373188, 0.01620297133922577, -0.04482008516788483, -0.0908418521285057, -0.007847242057323456, 0.03495103493332863, 0.058352917432785034, -0.03759758174419403, -0.06501580029726028, -0.04381357878446579, -0.06550349295139313, 0.02493823692202568, 0.06073439493775368, 0.0833229348063469, 0.1047995537519455, 0.048659078776836395, 0.053452931344509125, 0.03616932034492493, 0.025669153779745102, -0.003973653540015221, -0.015982629731297493, -0.018006011843681335, -0.08130798488855362, 0.09489110857248306, 0.00040486882789991796, -0.014533555135130882, 0.06509099155664444, 0.07590291649103165, -0.009072952903807163, 0.013278280384838581, -0.04286437854170799, 0.09341650456190109, -0.04261646419763565, 0.029258498921990395, -0.02925928868353367, 0.08539348840713501, 0.02496478520333767, -0.045366477221250534, -0.017030201852321625, -0.03594512119889259, 0.05223026126623154, 0.06181327626109123, -0.028511876240372658, -0.05026639625430107, 0.021904727444052696, 0.045622196048498154, 0.04208791255950928, -0.08792807161808014, -0.09455587714910507, 0.05125012993812561, -0.011034378781914711, 0.020906710997223854, -0.048126861453056335, 0.057634785771369934, 0.07518340647220612, -0.018601905554533005, -0.001687916461378336, 0.10781071335077286, 0.00765535281971097, -0.07792866975069046, -0.0717102587223053, 0.02048288844525814, -0.018465960398316383, 0.01434644777327776, 0.0489921048283577, 0.022724205628037453, -0.016952967271208763, -0.06785101443529129, 0.047914229333400726, -0.05544494837522507, 0.006595556158572435, ...]  \n",
       "18844           [0.03508157655596733, -0.05842971056699753, -0.03385154530405998, -0.09516499936580658, -0.002843766938894987, 0.013660278171300888, 0.028759922832250595, -0.08136561512947083, 0.12035945802927017, -0.029435155913233757, -0.0077550713904201984, -0.03728192299604416, 0.01139899343252182, -0.0120031563565135, 0.049822237342596054, -0.0443953312933445, 0.030495939776301384, -0.018931647762656212, 0.0018156357109546661, 0.040847212076187134, 0.08920631557703018, -0.06186335161328316, 0.04494623839855194, 0.07553135603666306, -0.002798476256430149, 0.022002095356583595, 0.06822404265403748, -0.003124685725197196, -0.022280048578977585, 0.012735530734062195, 0.02493247389793396, -0.05165247991681099, -0.05596216395497322, -0.010093910619616508, 0.08168914914131165, 0.018091510981321335, -0.02292831800878048, 0.02402954362332821, 0.011669071391224861, 0.04669861122965813, 0.03132247179746628, -0.04038853198289871, 0.036693915724754333, 0.08939772844314575, -0.02302311547100544, 0.0573483444750309, -0.042357202619314194, -0.043539561331272125, 0.061136793345212936, -0.07563786208629608, -0.09016882628202438, 0.005477188155055046, -0.023465892300009727, 0.013483019545674324, -0.027313441038131714, 0.001561761717312038, -0.06897462159395218, -0.029941227287054062, 0.007314307149499655, -0.04105522483587265, 0.12646767497062683, 0.0065294066444039345, 0.06906954199075699, -0.03447527810931206, 0.031707458198070526, -0.01823590137064457, -0.08305205404758453, 0.011699032969772816, -0.056845854967832565, 0.011637060903012753, -0.026580026373267174, 0.02969934046268463, -0.03430226817727089, -0.012228380888700485, 0.040163155645132065, 0.0764782577753067, 0.003711460856720805, -0.0008744408842176199, 0.026611246168613434, 0.049347903579473495, 0.030901823192834854, 0.04184436798095703, -0.011457228101789951, 0.07077906280755997, -0.11789404600858688, -0.0817176103591919, -0.11187185347080231, -0.05726765841245651, -0.0794576108455658, -0.016155358403921127, 0.043587107211351395, -0.044031549245119095, -0.04555211961269379, -0.029719222337007523, 0.026923002675175667, -0.08564049750566483, -0.04174681007862091, -0.03265199810266495, 0.08102170377969742, 0.003355038817971945, ...]  \n",
       "18845           [-0.0649806335568428, -0.011337255127727985, 0.03949648141860962, 0.021723339334130287, -0.06414614617824554, 0.007085280958563089, -0.06426346302032471, 0.0032048767898231745, -0.061151355504989624, -0.027414480224251747, -0.01907663606107235, 0.06612801551818848, -0.057312771677970886, -0.037246543914079666, -0.03301361948251724, -0.04549073055386543, 0.023903414607048035, 0.0035715976264327765, -0.045375097543001175, 0.04978706315159798, -0.0905204713344574, 0.025498343631625175, 0.018787339329719543, 0.10324510931968689, -0.011712606996297836, -0.07233362644910812, -0.07294747233390808, 0.03729328140616417, 0.03690849617123604, -0.04299931600689888, -0.0271674245595932, 0.12621694803237915, -0.07934235781431198, 0.04266344755887985, -0.009006943553686142, -0.06520535796880722, 0.019252408295869827, -0.01597048155963421, 0.0028021791949868202, 0.00020397687330842018, 0.05797746032476425, -0.00157585006672889, -0.05708421394228935, 0.08034036308526993, -0.05600778013467789, -0.013175513595342636, 0.02797439694404602, -0.0088792834430933, 0.028266720473766327, -0.08158789575099945, -0.034151140600442886, 0.04586247354745865, -0.001756001845933497, 0.020939582958817482, 0.016659490764141083, 0.02247386984527111, -0.02785424143075943, -0.018498864024877548, -0.015928294509649277, -0.027693716809153557, 0.027992498129606247, -0.011251258663833141, -0.02385620027780533, -0.019791487604379654, 0.06564133614301682, 0.03253081440925598, -0.09842359274625778, -0.07417790591716766, 0.005677510518580675, 0.04315023869276047, 0.07317881286144257, -0.013880211859941483, -0.0027071062941104174, 0.004936391022056341, -0.06208229064941406, 0.001866790116764605, 0.10791613906621933, -0.0042931935749948025, -0.005381407681852579, -0.00687428517267108, -0.01507914625108242, -0.08850712329149246, 0.05543676018714905, -0.03330850228667259, -0.015628112480044365, -0.05090710520744324, 0.05134883150458336, 0.09265740215778351, 0.012081817723810673, 0.014377294108271599, 0.05589953809976578, 0.04949669912457466, 0.039634816348552704, -0.049687404185533524, 0.0565141960978508, 0.06913378834724426, 0.020629335194826126, -0.004115691874176264, 0.07237035036087036, 0.01022382453083992, ...]  \n",
       "\n",
       "[18846 rows x 2 columns]"
      ],
      "text/html": [
       "<div>\n",
       "<style scoped>\n",
       "    .dataframe tbody tr th:only-of-type {\n",
       "        vertical-align: middle;\n",
       "    }\n",
       "\n",
       "    .dataframe tbody tr th {\n",
       "        vertical-align: top;\n",
       "    }\n",
       "\n",
       "    .dataframe thead th {\n",
       "        text-align: right;\n",
       "    }\n",
       "</style>\n",
       "<table border=\"1\" class=\"dataframe\">\n",
       "  <thead>\n",
       "    <tr style=\"text-align: right;\">\n",
       "      <th></th>\n",
       "      <th>raw</th>\n",
       "      <th>embeddings</th>\n",
       "    </tr>\n",
       "  </thead>\n",
       "  <tbody>\n",
       "    <tr>\n",
       "      <th>0</th>\n",
       "      <td>\\n\\nI am sure some bashers of Pens fans are pretty confused about the lack\\nof any kind of posts about the recent Pens massacre of the Devils. Actually,\\nI am  bit puzzled too and a bit relieved. However, I am going to put an end\\nto non-PIttsburghers' relief with a bit of praise for the Pens. Man, they\\nare killing those Devils worse than I thought. Jagr just showed you why\\nhe is much better than his regular season stats. He is also a lot\\nfo fun to watch in the playoffs. Bowman should let JAgr have a lot of\\nfun in the next couple of games since the Pens are going to beat the pulp out of Jersey anyway. I was very disappointed not to see the Islanders lose the final\\nregular season game.          PENS RULE!!!\\n\\n</td>\n",
       "      <td>[0.0020779806654900312, 0.023450423032045364, 0.0248088538646698, -0.010110200382769108, 0.04626138508319855, -0.019038811326026917, 0.06198830157518387, 0.049166589975357056, 0.026586145162582397, -0.009346400387585163, -0.0995098128914833, 0.039723265916109085, -0.05520962178707123, 0.02532419189810753, 0.02993602119386196, -0.019566623494029045, -0.06086605787277222, 0.015870140865445137, 0.025333929806947708, 0.04593871906399727, -0.014141423627734184, -0.007948887534439564, 0.021375149488449097, -0.010109618306159973, 0.10089989751577377, 0.013225837610661983, 0.009944065473973751, 0.06498442590236664, 0.03594978153705597, 0.00901051890105009, -0.04935517907142639, 0.028428280726075172, 0.016662482172250748, -0.07036454230546951, 0.028897425159811974, -0.012783491052687168, -0.016234586015343666, -0.029597068205475807, 0.0011979435803368688, 0.014751930721104145, 0.03274708241224289, 0.032700762152671814, -0.05388153716921806, -0.03434458374977112, 0.03882075473666191, -0.012894239276647568, -0.05786341056227684, -0.0505731925368309, 0.03648444637656212, -0.018551280722022057, -0.01095627062022686, -0.02363397181034088, 0.08503755182027817, -0.09827034920454025, 0.031581610441207886, 0.04195931553840637, -0.021482951939105988, -0.042930107563734055, 0.053916092962026596, -0.05952071771025658, 0.01013813354074955, -0.032480884343385696, 0.010553351603448391, -0.02959611266851425, 0.0004697918484453112, -0.09880625456571579, -0.026160571724176407, 0.02296098694205284, -0.04312822222709656, 0.02622532658278942, -0.019712431356310844, -0.010354968719184399, 0.042277295142412186, -0.006570827215909958, -0.030795490369200706, 0.04320602864027023, -0.07308743894100189, 0.006203257944434881, 0.01119457371532917, 0.007411148864775896, 0.10606396198272705, -0.06050681322813034, 0.06793943047523499, 0.016275765374302864, 0.04428844153881073, 0.058031484484672546, -0.031718138605356216, -0.056659016758203506, -0.025036487728357315, 0.05003930255770683, 0.014551944099366665, 0.04476001486182213, 0.03421919420361519, -0.04272487387061119, 0.020178569480776787, 0.017915284261107445, 0.04712974280118942, 0.07437659054994583, -0.037066735327243805, 0.0917411744594574, ...]</td>\n",
       "    </tr>\n",
       "    <tr>\n",
       "      <th>1</th>\n",
       "      <td>My brother is in the market for a high-performance video card that supports\\nVESA local bus with 1-2MB RAM.  Does anyone have suggestions/ideas on:\\n\\n  - Diamond Stealth Pro Local Bus\\n\\n  - Orchid Farenheit 1280\\n\\n  - ATI Graphics Ultra Pro\\n\\n  - Any other high-performance VLB card\\n\\n\\nPlease post or email.  Thank you!\\n\\n  - Matt\\n</td>\n",
       "      <td>[0.05006030201911926, 0.026980925351381302, -0.008864834904670715, -0.03594672307372093, 0.008585928939282894, 0.014310572296380997, -0.043572429567575455, 0.05393943190574646, -0.02893824316561222, -0.03812522068619728, -0.023232141509652138, 0.030122751370072365, -0.06470972299575806, -0.034228041768074036, 0.023131970316171646, 0.056054435670375824, 0.17435193061828613, 0.028424914926290512, 0.06454820185899734, 0.0008050971664488316, 0.01627497188746929, -0.028615452349185944, -0.005918028298765421, 0.03216960281133652, 0.035599905997514725, 0.0005109071498736739, 0.024383164942264557, 0.011950208805501461, -0.02083015628159046, -0.04016748443245888, 0.007029742933809757, 0.015071472153067589, -0.014022598043084145, 0.05105030536651611, -0.0032477930653840303, -0.013901530764997005, -0.04027160629630089, -0.007475163787603378, -0.043223440647125244, -0.068543940782547, 0.009921164251863956, 0.0515609048306942, -0.014713939279317856, -0.06937339156866074, 0.06824517250061035, -0.020183773711323738, 0.06208808720111847, 0.014667317271232605, -0.004694014322012663, -0.0443885400891304, 0.03445644676685333, -0.06254462897777557, 0.007531453389674425, -0.04136563092470169, -0.09212184697389603, -0.0384112149477005, -0.04700572416186333, -0.061582546681165695, -0.024371838197112083, 0.052663203328847885, 0.03206480294466019, -0.02185075730085373, 0.02793755941092968, 0.01758098602294922, -0.0708162859082222, 0.006732630077749491, -0.028143858537077904, 0.01030525378882885, 0.02919979766011238, -0.01215458195656538, 0.0034686168655753136, 0.03605575114488602, -0.038285985589027405, 0.04422120749950409, -0.04703765735030174, -0.017303725704550743, 0.045961055904626846, -0.018503280356526375, 0.07935106754302979, -0.05002693459391594, -0.04347652196884155, -0.06412394344806671, -0.040090933442115784, -0.048432715237140656, 0.05336444452404976, -0.03972543776035309, -0.03460651636123657, -0.018360109999775887, -0.04370339959859848, -0.08127411454916, 0.04157400503754616, 0.09838320314884186, 0.06465426087379456, 0.03393971547484398, 0.014633997343480587, -0.032688044011592865, -0.003691313089802861, -0.1311696618795395, -0.06077457591891289, 0.03400186449289322, ...]</td>\n",
       "    </tr>\n",
       "    <tr>\n",
       "      <th>2</th>\n",
       "      <td>\\n\\n\\n\\n\\tFinally you said what you dream about. Mediterranean???? That was new....\\n\\tThe area will be \"greater\" after some years, like your \"holocaust\" numbers......\\n\\n\\n\\n\\n\\t\\t*****\\n\\tIs't July in USA now????? Here in Sweden it's April and still cold.\\n\\tOr have you changed your calendar???\\n\\n\\n\\t\\t\\t\\t\\t\\t    ****************\\n\\t\\t\\t\\t\\t\\t    ******************\\n\\t\\t\\t    ***************\\n\\n\\n\\tNOTHING OF THE MENTIONED IS TRUE, BUT LET SAY IT's TRUE.\\n\\t\\n\\tSHALL THE AZERI WOMEN AND CHILDREN GOING TO PAY THE PRICE WITH\\n\\t\\t\\t\\t\\t\\t    **************\\n\\tBEING RAPED, KILLED AND TORTURED BY THE ARMENIANS??????????\\n\\t\\n\\tHAVE YOU HEARDED SOMETHING CALLED: \"GENEVA CONVENTION\"???????\\n\\tYOU FACIST!!!!!\\n\\n\\n\\n\\tOhhh i forgot, this is how Armenians fight, nobody has forgot\\n\\tyou killings, rapings and torture against the Kurds and Turks once\\n\\tupon a time!\\n      \\n       \\n\\n\\nOhhhh so swedish RedCross workers do lie they too? What ever you say\\n\"regional killer\", if you don't like the person then shoot him that's your policy.....l\\n\\n\\n\\t\\t\\t\\t\\t\\t\\t\\t\\t\\ti\\n\\t\\t\\t\\t\\t\\t\\t\\t\\t\\ti\\n\\t\\t\\t\\t\\t\\t\\t\\t\\t\\ti\\n\\tConfused?????\\t\\t\\t\\t\\t\\t\\t\\ti\\n\\t\\t\\t\\t\\t\\t\\t\\t\\t\\ti\\n        Search Turkish planes? You don't know what you are talking about.\\ti\\n        Turkey's government has announced that it's giving weapons  &lt;-----------i\\n        to Azerbadjan since Armenia started to attack Azerbadjan\\t\\t\\n        it self, not the Karabag province. So why search a plane for weapons\\t\\n        since it's content is announced to be weapons?   \\n\\n\\tIf there is one that's confused then that's you! We have the right (and we do)\\n\\tto give weapons to the Azeris, since Armenians started the fight in Azerbadjan!\\n \\n\\n\\n\\tShoot down with what? Armenian bread and butter? Or the arms and personel \\n\\tof the Russian army?\\n\\n\\n</td>\n",
       "      <td>[0.01640467904508114, 0.08100047707557678, -0.049535974860191345, -0.008988258428871632, -0.005216411780565977, -0.047913968563079834, -0.0006763286655768752, -0.09834540635347366, 0.04788842424750328, -0.001703754416666925, -0.018502885475754738, -0.02935972809791565, -0.05073871836066246, 0.03239167109131813, -0.012809829786419868, 0.0038331211544573307, -0.09630896896123886, 0.010022209957242012, -0.07322248816490173, 0.04108535870909691, -0.03079775907099247, -0.04126427322626114, 0.03523436188697815, 0.07550795376300812, 0.011151126585900784, 0.029052281752228737, 0.05486911162734032, 0.011354655027389526, -0.039063192903995514, 0.10649161785840988, 0.004502441734075546, 0.05118211358785629, -0.03542829304933548, -0.020120425149798393, 0.026249568909406662, -0.00018744445696938783, 0.021330242976546288, -0.09676535427570343, -0.05553128942847252, -0.002565189031884074, 0.07654982805252075, -0.04767024889588356, -0.028361134231090546, 0.019970476627349854, -0.008493746630847454, 0.06651375442743301, -0.04417906329035759, 0.002878512954339385, -0.06151604652404785, 0.01997043564915657, -0.090932697057724, -0.015487867407500744, 0.0379343219101429, -0.09236763417720795, -0.06525174528360367, -0.03920050337910652, -0.012862739153206348, -0.0395338200032711, -0.03898823633790016, -0.007550662383437157, -0.007605013903230429, 0.026650218293070793, -0.012986474670469761, 0.021617526188492775, -0.0267435684800148, -0.05630116164684296, 0.0315023697912693, 0.026863601058721542, -0.01992611773312092, 0.025155626237392426, -0.05867007002234459, 0.022083859890699387, -0.018683072179555893, 0.005287440959364176, 0.010521884076297283, -0.04399899020791054, -0.025762151926755905, -0.046264030039310455, 0.05990658327937126, -0.04032737389206886, 0.11776912212371826, -0.062462128698825836, 0.06417292356491089, -0.09453245997428894, 0.014416252262890339, -0.03754546865820885, 0.124518021941185, -0.017548291012644768, 0.09235043823719025, -0.004130957648158073, 0.08547874540090561, 0.007557057309895754, 0.09580066800117493, 0.0151409562677145, 0.11626602709293365, 0.025419823825359344, -0.005990597419440746, 0.045323021709918976, -0.05327305570244789, 0.03351309895515442, ...]</td>\n",
       "    </tr>\n",
       "    <tr>\n",
       "      <th>3</th>\n",
       "      <td>\\nThink!\\n\\nIt's the SCSI card doing the DMA transfers NOT the disks...\\n\\nThe SCSI card can do DMA transfers containing data from any of the SCSI devices\\nit is attached when it wants to.\\n\\nAn important feature of SCSI is the ability to detach a device. This frees the\\nSCSI bus for other devices. This is typically used in a multi-tasking OS to\\nstart transfers on several devices. While each device is seeking the data the\\nbus is free for other commands and data transfers. When the devices are\\nready to transfer the data they can aquire the bus and send the data.\\n\\nOn an IDE bus when you start a transfer the bus is busy until the disk has seeked\\nthe data and transfered it. This is typically a 10-20ms second lock out for other\\nprocesses wanting the bus irrespective of transfer time.\\n</td>\n",
       "      <td>[-0.019391465932130814, 0.011494359001517296, -0.014787303283810616, -0.022933168336749077, 0.05093548819422722, -0.052905336022377014, 0.05779892951250076, 0.03248053044080734, 0.11237554997205734, 0.010390309616923332, 0.019510289654135704, 0.08260710537433624, -0.006704244762659073, -0.056390658020973206, -0.023965420201420784, -0.060182876884937286, -0.03902745246887207, -0.08156494051218033, -0.0673464685678482, 0.055287815630435944, 0.09329129010438919, 0.03387709707021713, -0.09663421660661697, 0.03148898109793663, -0.030939823016524315, 0.0033007143065333366, 0.07434257864952087, -0.04249726980924606, -0.02801152691245079, 0.020079296082258224, -0.02316579967737198, 0.033851258456707, -0.019787970930337906, 0.020520152524113655, -0.05670640245079994, -0.00852528028190136, 0.035922225564718246, 0.009035290218889713, -0.010708565823733807, -0.11887422949075699, 0.061648301780223846, 0.021809512749314308, -0.049027759581804276, -0.005246859509497881, -0.016911117359995842, -0.023372631520032883, -0.07295501977205276, -0.025615323334932327, -0.06413336098194122, -0.049474429339170456, -0.033431388437747955, -0.022359151393175125, -0.01702001504600048, 0.07311902940273285, 0.026624582707881927, 0.043676819652318954, 0.06906332820653915, -0.019068105146288872, 0.013659973628818989, 0.050193559378385544, -0.02880030870437622, -0.017067354172468185, 0.03354479372501373, -0.01754658669233322, 0.09886956214904785, -0.05603565275669098, 0.04702148586511612, -0.01035394985228777, -0.00681255292147398, -0.07908619195222855, 0.027941184118390083, 0.034655217081308365, -0.002954167313873768, 0.03592193126678467, 0.042368948459625244, -0.04485245794057846, -0.03043544478714466, -0.00332184717990458, 0.021733485162258148, -0.15472441911697388, 0.019112881273031235, 0.036418549716472626, 0.05246715992689133, -0.013942799530923367, -0.012375322170555592, 0.015393867157399654, -0.07532507926225662, -0.003772867377847433, 0.0303359255194664, -0.0381259024143219, 0.061628106981515884, 0.04333996772766113, -0.09400445967912674, -0.00863728765398264, 0.02634265273809433, -0.05376752093434334, 0.0024090802762657404, -0.02898082323372364, 0.008596444502472878, -0.000915630953386426, ...]</td>\n",
       "    </tr>\n",
       "    <tr>\n",
       "      <th>4</th>\n",
       "      <td>1)    I have an old Jasmine drive which I cannot use with my new system.\\n My understanding is that I have to upsate the driver with a more modern\\none in order to gain compatability with system 7.0.1.  does anyone know\\nof an inexpensive program to do this?  ( I have seen formatters for &lt;$20\\nbuit have no idea if they will work)\\n \\n2)     I have another ancient device, this one a tape drive for which\\nthe back utility freezes the system if I try to use it.  THe drive is a\\njasmine direct tape (bought used for $150 w/ 6 tapes, techmar\\nmechanism).  Essentially I have the same question as above, anyone know\\nof an inexpensive beckup utility I can use with system 7.0.1</td>\n",
       "      <td>[-0.039287082850933075, -0.05540283024311066, -0.07453615218400955, -0.012671733275055885, -0.026080161333084106, 0.03754240646958351, -0.06934485584497452, 0.04461108148097992, -0.1400669366121292, -0.006606714334338903, 0.0037844812031835318, 0.06766185909509659, 0.02123982459306717, 0.006521960254758596, -0.0289500430226326, -0.022696884348988533, 0.03009445033967495, -0.013876293785870075, 0.07033936679363251, -0.01258132979273796, -0.06855092197656631, 0.021749982610344887, -0.01145828329026699, 0.046416960656642914, -0.012965478003025055, -0.10702753812074661, 0.033712271600961685, -0.03097117505967617, -0.03481776639819145, -0.08934728801250458, -0.02751046232879162, -0.041179485619068146, 0.020749809220433235, -0.07229528576135635, 0.001572985085658729, -0.023840006440877914, 0.11153968423604965, -0.021408800035715103, -0.05693706125020981, -0.06464028358459473, 0.031159572303295135, -0.035139329731464386, -0.04247468709945679, -0.04039396345615387, -0.05808478593826294, -0.03599442541599274, 0.018502838909626007, -0.0015862892614677548, 0.05709424614906311, 0.010962776839733124, -0.08726956695318222, -0.050815097987651825, -0.012750132009387016, -0.012162611819803715, 0.02353387326002121, -0.03170965611934662, 0.044080592691898346, 0.09925379604101181, -0.0413302518427372, 0.050458699464797974, -0.010570124723017216, 0.007578612770885229, 0.013413012959063053, -0.0016806349158287048, -0.013348903506994247, 0.02402421459555626, -0.03297322615981102, 0.029871147125959396, -0.030809292569756508, -0.026292212307453156, -0.11420782655477524, -0.01400059275329113, 0.02750047855079174, -0.011170027777552605, 0.017761478200554848, -0.010018998757004738, 0.03410552442073822, 0.01202342752367258, -0.03534277528524399, -0.008951254189014435, -0.05463416129350662, -0.004173959605395794, -0.0751948431134224, 0.06280601769685745, -0.030968014150857925, 0.031084254384040833, -0.044791944324970245, 0.023766882717609406, 0.07713520526885986, -0.017130637541413307, 0.05505969002842903, 0.00915401428937912, 0.034198228269815445, 0.02044001966714859, -0.03637160733342171, 0.04874807968735695, 0.09489256888628006, 0.0036898667458444834, 0.0030097952112555504, 0.059919171035289764, ...]</td>\n",
       "    </tr>\n",
       "    <tr>\n",
       "      <th>...</th>\n",
       "      <td>...</td>\n",
       "      <td>...</td>\n",
       "    </tr>\n",
       "    <tr>\n",
       "      <th>18841</th>\n",
       "      <td>DN&gt; From: nyeda@cnsvax.uwec.edu (David Nye)\\nDN&gt; A neurology\\nDN&gt; consultation is cheaper than a scan.\\n\\nAnd also better, because a neurologist can make a differential\\ndiagnosis between migraine, tension-type headache, cluster, benign\\nintracranial hypertension, chronic paroxysmal hemicrania, and other\\nheadache syndromes that all appear normal on a scan.  A neurologist\\ncan also recommend a course of treatment that is appropriate to the\\ndiagnosis.\\n\\nDN&gt; &gt;&gt;Also, since many people are convinced they have brain tumors or other\\nDN&gt; &gt;&gt;serious pathology, it may be cheaper to just get a CT scan then have\\nDN&gt; &gt;&gt;them come into the ER every few weeks.\\nDN&gt; And easier than taking the time to reassure the patient, right?\\nDN&gt; Personally, I don't think this can ever be justified.\\n\\nSigh.  It may never be justifiable, but I sometimes do it.  Even\\nafter I try to show thoroughness with a detailed history, neurologic\\nexamination, and discussion with the patient about my diagnosis,\\nsalted with lots of reassurance, patients still ask \"why can't you\\norder a scan, so we can be absolutely sure?\"  Aunt Millie often gets\\ninto the conversation, as in \"they ignored Aunt Millie's headaches\\nfor years\", and then she died of a brain tumor, aneurysm, or\\nwhatever.  If you can get away without ever ordering imaging for a\\npatient with an obviously benign headache syndrome, I'd like to hear\\nwhat your magic is.\\n\\nEvery once in a while I am able to bypass imaging by getting an EEG.\\nMind you, I don't think EEG is terribly sensitive for brain tumor,\\nbut the patient feels like \"something is being done\" (as if the\\nhours I spent talking with and examining the patient were\\n\"nothing\"), the EEG has no ionizing radiation, it's *much* cheaper\\nthan CT or MRI, and the EEG brings in some money to my department.</td>\n",
       "      <td>[-0.03691378980875015, -0.008604884147644043, 0.006938297767192125, -0.005752657074481249, -0.09471739083528519, -0.053154975175857544, 0.029373962432146072, 0.039984915405511856, 0.010503003373742104, -0.06053527817130089, -0.027487553656101227, -0.014133610762655735, -0.009005561470985413, 0.06303651630878448, -0.11353534460067749, -0.016285911202430725, 0.013680730946362019, -0.05538405850529671, 0.04627625644207001, 0.12331681698560715, -0.1378690004348755, 0.04525962099432945, -0.057221945375204086, 0.028332645073533058, -0.029405100271105766, 0.014628824777901173, 0.018443724140524864, -0.08071751892566681, -0.016546491533517838, 0.033706340938806534, 0.04667055979371071, 0.008797445334494114, -0.10058705508708954, 0.01529453881084919, 0.07948806881904602, 0.027297399938106537, -0.06456787884235382, 0.0763462707400322, -0.06003135070204735, 0.05546732619404793, -0.03579280525445938, 0.022296326234936714, -0.0533602312207222, 0.026805900037288666, -0.02543959952890873, -0.021378900855779648, 0.01087904442101717, -0.02224273979663849, -0.010265418328344822, -0.007713248021900654, 0.03468916192650795, -0.06152402237057686, -0.01992998644709587, -0.012977861799299717, -0.016537796705961227, 0.049699295312166214, -0.00915667973458767, -0.011510125361382961, -0.06754329055547714, 0.09815257787704468, -0.041192036122083664, 0.0018804236315190792, -0.01704566739499569, -0.044950876384973526, 0.05530250072479248, 0.12547451257705688, -0.012479941360652447, -0.06063161790370941, 0.03535200282931328, 0.06764943152666092, 0.033013440668582916, 0.017530128359794617, 0.01936861127614975, 0.016839316114783287, -0.03510019928216934, -0.06430461257696152, 0.06367804110050201, -0.02504625916481018, 0.061491966247558594, -0.05006052181124687, 0.017213724553585052, 0.19401228427886963, 0.05460130423307419, -0.007748905103653669, 0.0608530156314373, 0.01680722087621689, 0.019711934030056, 0.031744103878736496, 0.03076816350221634, -0.013871812261641026, 0.10755714029073715, -0.0028000352904200554, -0.08601246774196625, -0.06283174455165863, 0.1149536669254303, -0.0064301686361432076, -0.018225982785224915, -0.02401323802769184, 0.034134987741708755, 0.005178837571293116, ...]</td>\n",
       "    </tr>\n",
       "    <tr>\n",
       "      <th>18842</th>\n",
       "      <td>\\nNot in isolated ground recepticles (usually an unusual color, such as orange\\nor yellow) often used in low noise, low leakage applications, as mentioned\\nearlier in the thread.</td>\n",
       "      <td>[-0.012171657755970955, -0.05613766238093376, 0.00018241540237795562, 0.0019089969573542476, 0.034444838762283325, -0.047169093042612076, 0.11501921713352203, -0.02279495820403099, 0.045466892421245575, -0.08042419701814651, 0.0392274409532547, 0.04150564968585968, 0.009622514247894287, 0.019276821985840797, -0.04377087950706482, 0.03721211850643158, 0.02415890246629715, -0.020615847781300545, 0.04427909851074219, -0.0027451461646705866, -0.05976525694131851, 0.06152383238077164, -0.012593653984367847, -0.010685956105589867, -0.038786906749010086, -0.05476870760321617, 0.03636578842997551, 0.04031774029135704, 0.011988413520157337, -0.07354479283094406, -0.006603293586522341, -0.03284197673201561, -0.0012440651189535856, -0.05661403387784958, 0.06347519159317017, -0.021212678402662277, 0.03297002241015434, 0.02993725799024105, 0.05081287398934364, 0.0929846316576004, 0.04487423226237297, -0.04546992480754852, 0.09314196556806564, -0.04025557264685631, -0.02098885551095009, -0.0018804033752530813, -0.0005663586780428886, -0.13714830577373505, -0.019389620050787926, -0.07775657624006271, 0.09566304087638855, -0.043590247631073, 0.050425510853528976, 0.05546875670552254, 0.04986225441098213, -0.01566866785287857, 0.029327567666769028, -0.038484837859869, 0.01466729398816824, 0.04165191948413849, 0.04025964438915253, -0.016479451209306717, -0.034847442060709, -0.019561760127544403, 0.06084170565009117, 0.026750899851322174, -0.0076949759386479855, -0.07471007853746414, 0.11326989531517029, -0.10790373384952545, -0.009999883361160755, 0.013373277150094509, 0.031325846910476685, -0.047902561724185944, -0.013532244600355625, 0.1100144013762474, -0.014530022628605366, 0.04220058396458626, -0.03555146977305412, 0.010532921180129051, 0.02848649024963379, 0.008398548699915409, -0.028201330453157425, -0.07360098510980606, 0.06675470620393753, 0.04705975949764252, -0.011199215427041054, -0.04831792786717415, -0.14045925438404083, -0.033380843698978424, 0.017541615292429924, 0.04007190093398094, -0.038781408220529556, 0.03993980586528778, -0.0621800571680069, -0.012221016921103, -0.025091849267482758, -0.03706222027540207, -0.015868673101067543, 0.006488026585429907, ...]</td>\n",
       "    </tr>\n",
       "    <tr>\n",
       "      <th>18843</th>\n",
       "      <td>I just installed a DX2-66 CPU in a clone motherboard, and tried mounting a CPU \\ncooler on the chip.  After about 1/2 hour, the weight of the cooler was enough \\nto dislodge the CPU from its mount.  It ended up bending a few pins\\non the CPU, but luckily the power was not on yet.  I ended up\\npressing the CPU deeply into its socket and then putting the CPU\\ncooler back on.  So far so good.\\n\\nHave others had this problem?  How do you ensure that the weight of\\nthe CPU fan and heatsink do not eventually work the CPU out of its\\nsocket when mounting the motherboard in a vertical case?\\n</td>\n",
       "      <td>[-0.005090844351798296, 0.018172720447182655, 0.04388076812028885, 0.06111885607242584, -0.03752025589346886, -0.11153042316436768, -0.031541310250759125, 0.02300034649670124, 0.007378667127341032, -0.03550330176949501, 0.021884050220251083, 0.03158945217728615, -0.024084199219942093, 0.035392876714468, -0.057098522782325745, -0.00022859549790155143, 0.03917586803436279, 0.054468341171741486, -0.00479046069085598, -0.01032129768282175, -0.034637853503227234, -0.09666122496128082, -0.09290151298046112, 0.0236793365329504, 0.05299260839819908, 0.053077712655067444, 0.06216135621070862, 0.05059319734573364, 0.02446030080318451, 0.0472293384373188, 0.01620297133922577, -0.04482008516788483, -0.0908418521285057, -0.007847242057323456, 0.03495103493332863, 0.058352917432785034, -0.03759758174419403, -0.06501580029726028, -0.04381357878446579, -0.06550349295139313, 0.02493823692202568, 0.06073439493775368, 0.0833229348063469, 0.1047995537519455, 0.048659078776836395, 0.053452931344509125, 0.03616932034492493, 0.025669153779745102, -0.003973653540015221, -0.015982629731297493, -0.018006011843681335, -0.08130798488855362, 0.09489110857248306, 0.00040486882789991796, -0.014533555135130882, 0.06509099155664444, 0.07590291649103165, -0.009072952903807163, 0.013278280384838581, -0.04286437854170799, 0.09341650456190109, -0.04261646419763565, 0.029258498921990395, -0.02925928868353367, 0.08539348840713501, 0.02496478520333767, -0.045366477221250534, -0.017030201852321625, -0.03594512119889259, 0.05223026126623154, 0.06181327626109123, -0.028511876240372658, -0.05026639625430107, 0.021904727444052696, 0.045622196048498154, 0.04208791255950928, -0.08792807161808014, -0.09455587714910507, 0.05125012993812561, -0.011034378781914711, 0.020906710997223854, -0.048126861453056335, 0.057634785771369934, 0.07518340647220612, -0.018601905554533005, -0.001687916461378336, 0.10781071335077286, 0.00765535281971097, -0.07792866975069046, -0.0717102587223053, 0.02048288844525814, -0.018465960398316383, 0.01434644777327776, 0.0489921048283577, 0.022724205628037453, -0.016952967271208763, -0.06785101443529129, 0.047914229333400726, -0.05544494837522507, 0.006595556158572435, ...]</td>\n",
       "    </tr>\n",
       "    <tr>\n",
       "      <th>18844</th>\n",
       "      <td>\\nWouldn't this require a hyper-sphere.  In 3-space, 4 points over specifies\\na sphere as far as I can see.  Unless that is you can prove that a point\\nexists in 3-space that is equi-distant from the 4 points, and this may not\\nnecessarily happen.\\n\\nCorrect me if I'm wrong (which I quite possibly am!)\\n\\nsteve\\n---\\n\\n\\n</td>\n",
       "      <td>[0.03508157655596733, -0.05842971056699753, -0.03385154530405998, -0.09516499936580658, -0.002843766938894987, 0.013660278171300888, 0.028759922832250595, -0.08136561512947083, 0.12035945802927017, -0.029435155913233757, -0.0077550713904201984, -0.03728192299604416, 0.01139899343252182, -0.0120031563565135, 0.049822237342596054, -0.0443953312933445, 0.030495939776301384, -0.018931647762656212, 0.0018156357109546661, 0.040847212076187134, 0.08920631557703018, -0.06186335161328316, 0.04494623839855194, 0.07553135603666306, -0.002798476256430149, 0.022002095356583595, 0.06822404265403748, -0.003124685725197196, -0.022280048578977585, 0.012735530734062195, 0.02493247389793396, -0.05165247991681099, -0.05596216395497322, -0.010093910619616508, 0.08168914914131165, 0.018091510981321335, -0.02292831800878048, 0.02402954362332821, 0.011669071391224861, 0.04669861122965813, 0.03132247179746628, -0.04038853198289871, 0.036693915724754333, 0.08939772844314575, -0.02302311547100544, 0.0573483444750309, -0.042357202619314194, -0.043539561331272125, 0.061136793345212936, -0.07563786208629608, -0.09016882628202438, 0.005477188155055046, -0.023465892300009727, 0.013483019545674324, -0.027313441038131714, 0.001561761717312038, -0.06897462159395218, -0.029941227287054062, 0.007314307149499655, -0.04105522483587265, 0.12646767497062683, 0.0065294066444039345, 0.06906954199075699, -0.03447527810931206, 0.031707458198070526, -0.01823590137064457, -0.08305205404758453, 0.011699032969772816, -0.056845854967832565, 0.011637060903012753, -0.026580026373267174, 0.02969934046268463, -0.03430226817727089, -0.012228380888700485, 0.040163155645132065, 0.0764782577753067, 0.003711460856720805, -0.0008744408842176199, 0.026611246168613434, 0.049347903579473495, 0.030901823192834854, 0.04184436798095703, -0.011457228101789951, 0.07077906280755997, -0.11789404600858688, -0.0817176103591919, -0.11187185347080231, -0.05726765841245651, -0.0794576108455658, -0.016155358403921127, 0.043587107211351395, -0.044031549245119095, -0.04555211961269379, -0.029719222337007523, 0.026923002675175667, -0.08564049750566483, -0.04174681007862091, -0.03265199810266495, 0.08102170377969742, 0.003355038817971945, ...]</td>\n",
       "    </tr>\n",
       "    <tr>\n",
       "      <th>18845</th>\n",
       "      <td>After a tip from Gary Crum (crum@fcom.cc.utah.edu) I got on the Phone\\nwith \"Pontiac Systems\" or \"Pontaic Customer Service\" or whatever, and\\ninquired about a rumoured Production Hold on the Formula Firebird and\\nTrans Am.  BTW, Talking with the dealer I bought the car from got me\\nnowhere.  After being routed to a \"Firebird Specialist\", I was able\\nto confirm that this is in fact the case.\\n\\nAt first, there was some problem with the 3:23 performance axle ratio.\\nShe wouldn't go into any details, so I don't know if there were some\\nshipped that had problems, or if production was held up because they\\nsimply didn't have the proper parts from the supplier.  As I say, she\\nwas pretty vague on that, so if anyone else knows anything about this,\\nfeel free to respond.  Supposedly, this problem is now solved.\\n\\nSecond, there is a definate shortage of parts that is somehow related\\nto the six-speed Manual transmission.  So as of this posting, there is\\na production hold on these cars.  She claimed part of the delay was\\nnot wanting to use inferior quality parts for the car, and therefore\\nhaving to wait for the right high quality parts...  I'm not positive\\nthat this applies to the Camaro as well, but I'm guessing it would.\\n\\nCan anyone else shed some light on this?\\n\\nChris S.\\n-- \\n--------------------------------------------------------------------------------\\nChris Silvester      | \"Any man capable of getting himself elected President\\nchriss@sam.amgen.com |  should by no means be allowed to do the job\"\\nchriss@netcom.com    |   - Douglas Adams, The Hitchhiker's Guide to the Galaxy</td>\n",
       "      <td>[-0.0649806335568428, -0.011337255127727985, 0.03949648141860962, 0.021723339334130287, -0.06414614617824554, 0.007085280958563089, -0.06426346302032471, 0.0032048767898231745, -0.061151355504989624, -0.027414480224251747, -0.01907663606107235, 0.06612801551818848, -0.057312771677970886, -0.037246543914079666, -0.03301361948251724, -0.04549073055386543, 0.023903414607048035, 0.0035715976264327765, -0.045375097543001175, 0.04978706315159798, -0.0905204713344574, 0.025498343631625175, 0.018787339329719543, 0.10324510931968689, -0.011712606996297836, -0.07233362644910812, -0.07294747233390808, 0.03729328140616417, 0.03690849617123604, -0.04299931600689888, -0.0271674245595932, 0.12621694803237915, -0.07934235781431198, 0.04266344755887985, -0.009006943553686142, -0.06520535796880722, 0.019252408295869827, -0.01597048155963421, 0.0028021791949868202, 0.00020397687330842018, 0.05797746032476425, -0.00157585006672889, -0.05708421394228935, 0.08034036308526993, -0.05600778013467789, -0.013175513595342636, 0.02797439694404602, -0.0088792834430933, 0.028266720473766327, -0.08158789575099945, -0.034151140600442886, 0.04586247354745865, -0.001756001845933497, 0.020939582958817482, 0.016659490764141083, 0.02247386984527111, -0.02785424143075943, -0.018498864024877548, -0.015928294509649277, -0.027693716809153557, 0.027992498129606247, -0.011251258663833141, -0.02385620027780533, -0.019791487604379654, 0.06564133614301682, 0.03253081440925598, -0.09842359274625778, -0.07417790591716766, 0.005677510518580675, 0.04315023869276047, 0.07317881286144257, -0.013880211859941483, -0.0027071062941104174, 0.004936391022056341, -0.06208229064941406, 0.001866790116764605, 0.10791613906621933, -0.0042931935749948025, -0.005381407681852579, -0.00687428517267108, -0.01507914625108242, -0.08850712329149246, 0.05543676018714905, -0.03330850228667259, -0.015628112480044365, -0.05090710520744324, 0.05134883150458336, 0.09265740215778351, 0.012081817723810673, 0.014377294108271599, 0.05589953809976578, 0.04949669912457466, 0.039634816348552704, -0.049687404185533524, 0.0565141960978508, 0.06913378834724426, 0.020629335194826126, -0.004115691874176264, 0.07237035036087036, 0.01022382453083992, ...]</td>\n",
       "    </tr>\n",
       "  </tbody>\n",
       "</table>\n",
       "<p>18846 rows × 2 columns</p>\n",
       "</div>"
      ]
     },
     "execution_count": 25,
     "metadata": {},
     "output_type": "execute_result"
    }
   ],
   "execution_count": 25
  },
  {
   "metadata": {},
   "cell_type": "markdown",
   "source": "### 2.3 Creo una quey y hago la búsqueda",
   "id": "939af4d8947ba81"
  },
  {
   "metadata": {
    "ExecuteTime": {
     "end_time": "2025-06-30T15:54:21.313022Z",
     "start_time": "2025-06-30T15:54:21.298942Z"
    }
   },
   "cell_type": "code",
   "source": "from sklearn.metrics.pairwise import cosine_similarity",
   "id": "f1bd0d57a5066571",
   "outputs": [],
   "execution_count": 26
  },
  {
   "metadata": {
    "ExecuteTime": {
     "end_time": "2025-06-30T15:54:21.359426Z",
     "start_time": "2025-06-30T15:54:21.315083Z"
    }
   },
   "cell_type": "code",
   "source": [
    "query = \"Russian Federation\"\n",
    "query_emb = model.encode(query)\n",
    "print(query_emb)"
   ],
   "id": "4c6150ba13f13e3d",
   "outputs": [
    {
     "name": "stdout",
     "output_type": "stream",
     "text": [
      "[-8.52377340e-03 -3.92504930e-02 -3.42000052e-02  4.32617702e-02\n",
      " -2.49907561e-03  5.95423626e-03  8.68702233e-02 -2.59020962e-02\n",
      " -6.05973997e-04 -1.71499737e-02 -7.30644912e-02 -5.86948404e-03\n",
      " -2.40230504e-02  7.72785470e-02 -8.97390172e-02 -4.86236289e-02\n",
      " -1.98789090e-02 -3.78015079e-02 -5.36042592e-03 -2.03642733e-02\n",
      " -3.16140689e-02 -9.79854167e-02  4.54782732e-02  3.91724370e-02\n",
      "  5.95646948e-02  1.77145153e-02 -2.23199418e-03 -1.09468540e-02\n",
      "  5.12338197e-03 -6.64867684e-02 -3.48227508e-02 -1.31535297e-02\n",
      "  5.33735752e-02 -6.93239039e-03 -1.50537333e-02  1.57261379e-02\n",
      "  3.70326340e-02 -5.30506037e-02  1.98961981e-03  3.04985438e-02\n",
      " -1.14550265e-02 -1.00777559e-01 -3.67123187e-02  8.75669420e-02\n",
      " -1.14588102e-03  7.48975202e-02 -2.45475583e-02  6.63253618e-03\n",
      "  1.21760396e-02  1.17584644e-02  5.32353064e-04  1.13569191e-02\n",
      " -4.64758873e-02  7.52605051e-02  1.04522556e-01 -7.02960044e-02\n",
      "  2.51775179e-02 -8.67980160e-03 -6.09254427e-02 -7.77300447e-02\n",
      " -6.37419149e-03 -6.61627278e-02 -5.13162650e-02  3.09540946e-02\n",
      "  3.36933658e-02  3.23445648e-02 -3.06778401e-02  4.64256071e-02\n",
      " -9.00618732e-02 -7.04660490e-02  1.75661000e-03  1.48596354e-02\n",
      " -7.36183599e-02  4.88968268e-02  1.48129265e-03 -4.23091128e-02\n",
      " -3.94496210e-02  2.06862502e-02  4.62846421e-02 -1.90593489e-02\n",
      "  7.88523555e-02  2.76819617e-02 -5.66795431e-02  1.73972286e-02\n",
      "  2.38675922e-02 -2.92321611e-02  2.99161281e-02 -2.96152383e-02\n",
      " -2.09276546e-02  2.17327960e-02 -2.18070932e-02  8.07939023e-02\n",
      "  1.49780840e-01 -2.99237054e-02 -6.23667724e-02  2.48304196e-02\n",
      " -1.24021154e-02 -9.42994375e-03  3.19908857e-02  1.42753810e-01\n",
      " -7.49206450e-03  2.31264383e-02 -2.15291027e-02  2.93286983e-02\n",
      " -1.24130569e-01  4.19524238e-02 -8.80946144e-02  3.14028189e-02\n",
      "  4.83885407e-02  1.37025677e-03 -3.96873839e-02  2.01918520e-02\n",
      " -6.02928139e-02  1.23764221e-02 -4.52002138e-02  3.76418941e-02\n",
      "  1.28762610e-03  6.80858269e-03  6.23130463e-02 -6.59392700e-02\n",
      " -3.98242520e-03 -2.46368740e-02 -7.62134343e-02 -2.51408927e-02\n",
      "  2.66487687e-03  1.23428293e-02 -5.46255819e-02 -1.86901490e-33\n",
      " -1.05302315e-03 -6.65966934e-03 -4.67711408e-03  2.27972027e-02\n",
      " -1.07718512e-01 -1.49297796e-03 -6.63984474e-03 -5.45098372e-02\n",
      " -1.23406820e-01  4.99892235e-02 -1.06405504e-02  1.07210390e-01\n",
      " -1.43207312e-02 -3.02335601e-02  1.09337293e-01  2.39172131e-02\n",
      "  2.89617795e-02  1.08265467e-01  2.78109983e-02  1.04130991e-01\n",
      "  7.43886530e-02  1.71325013e-01 -2.09882390e-02  1.96173191e-02\n",
      "  6.52421415e-02  1.49579812e-02 -7.09734783e-02 -2.66016442e-02\n",
      "  1.55990152e-03  1.57813746e-02 -3.07114404e-02  3.48332687e-04\n",
      " -3.87872085e-02  3.71884070e-02 -1.65742598e-02 -6.39888272e-02\n",
      "  1.25340177e-02 -6.22763596e-02 -1.69495959e-02  2.64986306e-02\n",
      "  1.86256431e-02 -1.12247758e-01  5.74054457e-02  6.08016737e-02\n",
      "  2.92418208e-02  3.70664038e-02  4.71418649e-02 -2.72103027e-03\n",
      "  7.76096806e-02  2.19993535e-02 -1.14960279e-02 -2.50537917e-02\n",
      " -9.09684505e-03  1.04938839e-02  5.25588058e-02 -2.00213809e-02\n",
      " -2.97008287e-02  2.30650976e-02 -1.29566835e-02  6.78491266e-03\n",
      " -1.11579867e-02  2.28523370e-03 -4.84446697e-02  7.96665903e-03\n",
      " -2.12306692e-03 -5.93280308e-02  1.82309002e-02  2.66712625e-02\n",
      "  3.41883302e-02  3.42388935e-02 -1.34253772e-02  2.18797177e-02\n",
      "  1.41545404e-02  5.75899743e-02 -3.03211380e-02 -3.26727182e-02\n",
      "  7.54073914e-03  1.33718839e-02 -6.69711530e-02 -8.66512675e-03\n",
      " -1.00350246e-01  2.02204101e-02  8.12654290e-03  5.36693074e-02\n",
      " -3.64244357e-02  2.31055208e-02  5.38368821e-02 -4.44463594e-03\n",
      " -4.86642085e-02 -1.26837026e-02 -2.08923683e-01 -6.42828941e-02\n",
      "  9.90567654e-02  6.88319206e-02 -1.60805248e-02  8.06717069e-34\n",
      "  7.13733658e-02 -4.95123118e-02  8.72897144e-05  5.79421893e-02\n",
      "  2.78593265e-02  7.13002086e-02  1.00210801e-01  1.63178034e-02\n",
      "  1.75460540e-02  6.62109777e-02  6.33435324e-02 -7.81291127e-02\n",
      "  8.93256068e-02  6.88221753e-02  1.07081677e-03 -4.81724888e-02\n",
      "  9.29626077e-02  4.03552540e-02 -8.78145546e-02 -4.45959046e-02\n",
      " -6.62032813e-02  1.48912501e-02  6.98487274e-03  3.72022204e-02\n",
      "  1.88770914e-03  4.90967557e-02  1.02434948e-01 -6.33764490e-02\n",
      " -1.22302055e-01 -4.35242709e-03 -6.39098650e-03 -5.44780008e-02\n",
      " -6.32418618e-02  8.00250918e-02 -1.42569030e-02  5.04122637e-02\n",
      "  7.84367416e-03 -2.13879030e-02 -9.41484571e-02 -4.22901101e-02\n",
      "  6.68655615e-03 -5.54191461e-03 -1.54447241e-03  1.57929525e-01\n",
      " -1.59054566e-02 -4.90569063e-02 -4.35041897e-02  1.03887357e-01\n",
      "  3.72269866e-03 -3.11574060e-02 -5.83778024e-02  1.82894189e-02\n",
      "  2.23190933e-02 -4.92341891e-02 -2.09877174e-02  3.15467524e-03\n",
      " -4.15070541e-02  5.26897088e-02  1.55583229e-02  2.60473900e-02\n",
      "  5.92152961e-02  1.21424561e-02 -3.13651259e-03  4.41014543e-02\n",
      " -3.28771286e-02  4.92439940e-05  1.10857952e-02  2.50915270e-02\n",
      "  5.27514778e-02  2.42670253e-02  8.15924481e-02 -3.48981880e-02\n",
      " -1.00053340e-01  1.04387604e-01  4.28890213e-02  6.41142353e-02\n",
      " -2.38523111e-02  5.39112352e-02  5.88866435e-02  6.85142651e-02\n",
      "  1.76785365e-02 -4.24880609e-02 -6.22928180e-02  6.21080920e-02\n",
      " -6.16687175e-04 -1.26804784e-03  2.02577468e-02 -5.20585738e-02\n",
      "  9.98320207e-02 -1.61941033e-02 -3.24287228e-02 -1.72892977e-02\n",
      " -1.68920215e-02  2.88474578e-02 -3.62470653e-03 -1.25549162e-08\n",
      "  2.90820263e-02  1.68640576e-02 -1.37509806e-02  2.31873970e-02\n",
      " -5.71202300e-02 -8.50798413e-02  3.49120870e-02 -1.08209558e-01\n",
      " -9.35953334e-02  3.95998359e-02 -1.61228422e-02 -1.13829821e-02\n",
      "  1.72818974e-02 -3.12740803e-02  6.77393889e-03 -6.02762662e-02\n",
      " -5.34862652e-02  7.82247409e-02 -4.02281731e-02  1.84565838e-02\n",
      "  1.14918342e-02 -3.44536491e-02 -1.11921672e-02 -5.89179844e-02\n",
      " -7.82339722e-02  1.26145338e-03  1.14260644e-01 -1.17822476e-02\n",
      "  3.88842449e-02  2.80337185e-02  4.48151119e-02 -1.97578873e-02\n",
      " -2.77116802e-02 -1.03157237e-02 -3.45026813e-02  2.87583303e-02\n",
      " -4.39793058e-03  1.31181367e-02  7.32973218e-02 -5.80082834e-02\n",
      " -3.78693752e-02  5.21765538e-02  3.56310382e-02 -4.15377039e-03\n",
      " -8.70977640e-02 -1.11361742e-02 -5.92402034e-02 -3.79124917e-02\n",
      "  2.29515154e-02 -2.63017174e-02  8.94012209e-03  5.80126308e-02\n",
      " -5.02641350e-02  6.31024539e-02 -7.09426925e-02  2.79602595e-03\n",
      "  2.79230345e-02 -6.92473305e-03 -5.09544387e-02 -1.91253889e-02\n",
      "  1.50044831e-02 -5.50615452e-02  6.90594837e-02 -6.05129218e-03]\n"
     ]
    }
   ],
   "execution_count": 27
  },
  {
   "metadata": {
    "ExecuteTime": {
     "end_time": "2025-06-30T16:00:25.032641Z",
     "start_time": "2025-06-30T16:00:24.984892Z"
    }
   },
   "cell_type": "code",
   "source": "similarities = cosine_similarity(query_emb.reshape(1,-1), embeddings)",
   "id": "cbca1e6f95e98762",
   "outputs": [],
   "execution_count": 31
  },
  {
   "metadata": {},
   "cell_type": "markdown",
   "source": "Obtengo los 5 documentos más similares a mi query",
   "id": "d6b0a8f32632e705"
  },
  {
   "metadata": {
    "ExecuteTime": {
     "end_time": "2025-06-30T16:00:30.085260Z",
     "start_time": "2025-06-30T16:00:30.071967Z"
    }
   },
   "cell_type": "code",
   "source": [
    "z = zip(newsgroups_df.raw, similarities)\n",
    "sorted(z, key=lambda x: x[1], reverse=True)"
   ],
   "id": "b5eef805020c0732",
   "outputs": [
    {
     "data": {
      "text/plain": [
       "[(\"\\n\\nI am sure some bashers of Pens fans are pretty confused about the lack\\nof any kind of posts about the recent Pens massacre of the Devils. Actually,\\nI am  bit puzzled too and a bit relieved. However, I am going to put an end\\nto non-PIttsburghers' relief with a bit of praise for the Pens. Man, they\\nare killing those Devils worse than I thought. Jagr just showed you why\\nhe is much better than his regular season stats. He is also a lot\\nfo fun to watch in the playoffs. Bowman should let JAgr have a lot of\\nfun in the next couple of games since the Pens are going to beat the pulp out of Jersey anyway. I was very disappointed not to see the Islanders lose the final\\nregular season game.          PENS RULE!!!\\n\\n\",\n",
       "  array([ 0.06407066, -0.04098997,  0.1977092 , ...,  0.03166188,\n",
       "          0.04120576,  0.05887027], dtype=float32))]"
      ]
     },
     "execution_count": 32,
     "metadata": {},
     "output_type": "execute_result"
    }
   ],
   "execution_count": 32
  },
  {
   "metadata": {
    "ExecuteTime": {
     "end_time": "2025-06-30T16:00:36.607106Z",
     "start_time": "2025-06-30T16:00:36.591412Z"
    }
   },
   "cell_type": "code",
   "source": [
    "z = zip(newsgroups_df.index, similarities)\n",
    "sorted(z, key=lambda x: x[1], reverse=True)"
   ],
   "id": "d1d32c53a451af86",
   "outputs": [
    {
     "data": {
      "text/plain": [
       "[(0,\n",
       "  array([ 0.06407066, -0.04098997,  0.1977092 , ...,  0.03166188,\n",
       "          0.04120576,  0.05887027], dtype=float32))]"
      ]
     },
     "execution_count": 33,
     "metadata": {},
     "output_type": "execute_result"
    }
   ],
   "execution_count": 33
  },
  {
   "metadata": {
    "ExecuteTime": {
     "end_time": "2025-06-30T16:01:30.166704Z",
     "start_time": "2025-06-30T16:01:30.160701Z"
    }
   },
   "cell_type": "code",
   "source": "",
   "id": "6b05c3021a26066e",
   "outputs": [
    {
     "name": "stdout",
     "output_type": "stream",
     "text": [
      "<zip object at 0x000002C671C98400>\n"
     ]
    }
   ],
   "execution_count": 35
  }
 ],
 "metadata": {
  "kernelspec": {
   "display_name": "Python 3",
   "language": "python",
   "name": "python3"
  },
  "language_info": {
   "codemirror_mode": {
    "name": "ipython",
    "version": 2
   },
   "file_extension": ".py",
   "mimetype": "text/x-python",
   "name": "python",
   "nbconvert_exporter": "python",
   "pygments_lexer": "ipython2",
   "version": "2.7.6"
  }
 },
 "nbformat": 4,
 "nbformat_minor": 5
}
