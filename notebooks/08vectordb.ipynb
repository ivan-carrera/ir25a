{
 "cells": [
  {
   "metadata": {},
   "cell_type": "markdown",
   "source": [
    "# Ejercicio 8: Bases de Datos Vectoriales\n",
    "\n",
    "Las bases de datos vectoriales permiten almacenar y recuperar información representada como vectores en espacios de alta dimensión. Primero vamos a revisar los fundamentos matemáticos en los que se basan.\n",
    "\n",
    "## 1. Espacios Vectoriales\n",
    "\n",
    "Cada documento, imagen, o consulta se representa como un vector real en un espacio ℝ^n:\n",
    "\n",
    "$\\[ \\vec{d} = [d_1, d_2, \\dots, d_n] \\in \\mathbb{R}^n \\]$\n",
    "\n",
    "Donde $\\( n \\)$ suele ser 384, 768 o 1536, dependiendo del modelo de embeddings utilizado."
   ],
   "id": "7900d048bdae22eb"
  },
  {
   "metadata": {
    "ExecuteTime": {
     "end_time": "2025-06-25T13:24:10.784983Z",
     "start_time": "2025-06-25T13:24:10.675527Z"
    }
   },
   "cell_type": "code",
   "source": [
    "import numpy as np\n",
    "\n",
    "# Simulamos 3 documentos como vectores en R^3\n",
    "doc1 = np.array([0.2, 0.1, 0.5])\n",
    "doc2 = np.array([-0.1, 0.4, 0.3])\n",
    "query = np.array([0.1, 0.3, 0.4])\n",
    "\n",
    "print(\"Documentos:\", doc1, doc2)\n",
    "print(\"Consulta:\", query)"
   ],
   "id": "9e335ba44c18af98",
   "outputs": [
    {
     "name": "stdout",
     "output_type": "stream",
     "text": [
      "Documentos: [0.2 0.1 0.5] [-0.1  0.4  0.3]\n",
      "Consulta: [0.1 0.3 0.4]\n"
     ]
    }
   ],
   "execution_count": 2
  },
  {
   "metadata": {},
   "cell_type": "markdown",
   "source": [
    "## 2. Medidas de Similitud\n",
    "\n",
    "El principio básico de una base vectorial es buscar elementos cuyo vector esté \"cerca\" del vector de consulta. Existen varias formas de medir esta cercanía:\n",
    "\n",
    "### a. Distancia Euclidiana (L2)\n",
    "\n",
    "$\\[ \\text{dist}(⇡\\vec{q}, \\vec{d}) = \\sqrt{\\sum_{i=1}^n (q_i - d_i)^2} \\]$\n",
    "\n",
    "Utilizada cuando los vectores no están normalizados. Implementada por defecto en `FAISS` con `IndexFlatL2`.\n",
    "\n",
    "### b. Similitud Coseno\n",
    "\n",
    "$\\[ \\cos(\\theta) = \\frac{\\vec{q} \\cdot \\vec{d}}{\\|\\vec{q}\\| \\cdot \\|\\vec{d}\\|} \\]$\n",
    "\n",
    "Esta métrica es ideal cuando se desea medir ángulos (dirección) en lugar de magnitudes. Se usa en `ChromaDB` y también puede simularse en FAISS si los vectores están normalizados.\n",
    "\n",
    "Existe una relación entre ambas (cuando los vectores están normalizados):\n",
    "$\\[ \\text{dist}_{\\text{L2}}^2 = 2 - 2 \\cdot \\cos(\\theta) \\]$"
   ],
   "id": "84f29c9d35285942"
  },
  {
   "metadata": {
    "ExecuteTime": {
     "end_time": "2025-06-25T13:24:16.437219Z",
     "start_time": "2025-06-25T13:24:16.424202Z"
    }
   },
   "cell_type": "code",
   "source": [
    "from numpy.linalg import norm\n",
    "\n",
    "dist1 = norm(query - doc1)\n",
    "dist2 = norm(query - doc2)\n",
    "\n",
    "print(\"Distancia Euclidiana a doc1:\", dist1)\n",
    "print(\"Distancia Euclidiana a doc2:\", dist2)\n",
    "\n",
    "def cosine_similarity(a, b):\n",
    "    return np.dot(a, b) / (norm(a) * norm(b))\n",
    "\n",
    "sim1 = cosine_similarity(query, doc1)\n",
    "sim2 = cosine_similarity(query, doc2)\n",
    "\n",
    "print(\"Similitud coseno con doc1:\", sim1)\n",
    "print(\"Similitud coseno con doc2:\", sim2)"
   ],
   "id": "acdc0580901174e2",
   "outputs": [
    {
     "name": "stdout",
     "output_type": "stream",
     "text": [
      "Distancia Euclidiana a doc1: 0.2449489742783178\n",
      "Distancia Euclidiana a doc2: 0.24494897427831785\n",
      "Similitud coseno con doc1: 0.8951435925492909\n",
      "Similitud coseno con doc2: 0.8846153846153845\n"
     ]
    }
   ],
   "execution_count": 3
  },
  {
   "metadata": {},
   "cell_type": "markdown",
   "source": [
    "## 3. Normalización de Vectores\n",
    "\n",
    "Muchos sistemas normalizan los vectores para que su norma sea 1:\n",
    "\n",
    "$\\[ \\hat{\\vec{v}} = \\frac{\\vec{v}}{\\|\\vec{v}\\|} \\]$\n",
    "\n",
    "Esto transforma la distancia Euclidiana en una función directa de la similitud coseno, facilitando búsquedas eficientes y comparables."
   ],
   "id": "1d52d25bf0be142"
  },
  {
   "metadata": {
    "ExecuteTime": {
     "end_time": "2025-06-25T13:24:23.682148Z",
     "start_time": "2025-06-25T13:24:23.662256Z"
    }
   },
   "cell_type": "code",
   "source": [
    "def normalize(v):\n",
    "    return v / norm(v)\n",
    "\n",
    "q_norm = normalize(query)\n",
    "d1_norm = normalize(doc1)\n",
    "d2_norm = normalize(doc2)\n",
    "\n",
    "print(\"Vector normalizado q:\", q_norm)\n",
    "print(\"Similitud coseno post-normalización (dot):\", np.dot(q_norm, d1_norm), np.dot(q_norm, d2_norm))\n",
    "\n",
    "# Relación teórica: dist² = 2 - 2cos(θ)\n",
    "dot = np.dot(q_norm, d1_norm)\n",
    "euclidean_sq = norm(q_norm - d1_norm)**2\n",
    "print(\"2 - 2cos(theta):\", 2 - 2 * dot)\n",
    "print(\"Distancia euclidiana al cuadrado:\", euclidean_sq)"
   ],
   "id": "bc8af7ab6b021307",
   "outputs": [
    {
     "name": "stdout",
     "output_type": "stream",
     "text": [
      "Vector normalizado q: [0.19611614 0.58834841 0.78446454]\n",
      "Similitud coseno post-normalización (dot): 0.895143592549291 0.8846153846153845\n",
      "2 - 2cos(theta): 0.20971281490141802\n",
      "Distancia euclidiana al cuadrado: 0.20971281490141774\n"
     ]
    }
   ],
   "execution_count": 4
  },
  {
   "metadata": {},
   "cell_type": "markdown",
   "source": [
    "## 4. Indexación y Aceleración\n",
    "\n",
    "Buscar en millones de vectores directamente es costoso $(\\( O(n \\cdot d) \\))$. Se usan estructuras aproximadas para acelerar:\n",
    "\n",
    "### a. IVF (Inverted File Index)\n",
    "- Aplica clustering (K-means) a los vectores.\n",
    "- Durante la búsqueda, se consulta solo un subconjunto de clústeres.\n",
    "\n",
    "### b. HNSW (Hierarchical Navigable Small World)\n",
    "- Construye un grafo jerárquico de vecinos más cercanos.\n",
    "- Permite búsquedas logarítmicas eficientes."
   ],
   "id": "ed5b08d9bbda13ed"
  },
  {
   "metadata": {},
   "cell_type": "code",
   "outputs": [],
   "execution_count": null,
   "source": "",
   "id": "b6f06db7b3e286e2"
  }
 ],
 "metadata": {
  "kernelspec": {
   "display_name": "Python 3",
   "language": "python",
   "name": "python3"
  },
  "language_info": {
   "codemirror_mode": {
    "name": "ipython",
    "version": 2
   },
   "file_extension": ".py",
   "mimetype": "text/x-python",
   "name": "python",
   "nbconvert_exporter": "python",
   "pygments_lexer": "ipython2",
   "version": "2.7.6"
  }
 },
 "nbformat": 4,
 "nbformat_minor": 5
}
