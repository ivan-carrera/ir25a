{
 "cells": [
  {
   "metadata": {},
   "cell_type": "markdown",
   "source": [
    "# Ejercicio 11 : Asistente RAG Conversacional\n",
    "\n",
    "## Objetivo de la práctica\n",
    "\n",
    "Construir un asistente que:\n",
    "\n",
    "1. Recibe una pregunta del usuario\n",
    "2. Recupera texto relevante de un corpus (ej. libro de Baeza-Yates)\n",
    "3. Genera una respuesta basada en los documentos encontrados\n",
    "4. Mantiene el historial de conversación\n"
   ],
   "id": "d8f77189596d7c95"
  },
  {
   "metadata": {},
   "cell_type": "markdown",
   "source": [
    "## Parte 0: Librerías necesarias\n",
    "- openai\n",
    "- faiss-cpu\n",
    "- sentence-transformers"
   ],
   "id": "f756d113e9d3deff"
  },
  {
   "metadata": {},
   "cell_type": "code",
   "outputs": [],
   "execution_count": null,
   "source": "",
   "id": "70c55de46ea711c2"
  },
  {
   "metadata": {},
   "cell_type": "markdown",
   "source": [
    "## Parte 1: Carga del corpus\n",
    "\n",
    "Aquí se debe cargar el corpus con los documentos en PDF.\n",
    "\n",
    "- Libro de Stanford\n",
    "- Libro BM25\n",
    "- Paper: Marcia Bates (1989). The design of browsing and berrypicking techniques for the online search interface"
   ],
   "id": "1d6e1072aca40b2"
  },
  {
   "metadata": {},
   "cell_type": "code",
   "outputs": [],
   "execution_count": null,
   "source": [
    "import pandas as pd\n",
    "import pymupdf\n",
    "\n",
    "path = ''\n",
    "file = \"irbookonlinereading.pdf\"\n",
    "\n",
    "# Abrir el PDF\n",
    "doc = pymupdf.open(path + file)\n",
    "# Extraer texto por página\n",
    "data = []\n",
    "for i, page in enumerate(doc):\n",
    "    text = page.get_text().encode(\"utf8\")\n",
    "    if text.strip():  # ignorar páginas en blanco\n",
    "        data.append({\n",
    "            \"page\": i + 1,\n",
    "            \"raw\": str(text).strip()\n",
    "        })\n",
    "\n",
    "# Convertir a DataFrame\n",
    "df = pd.DataFrame(data)\n",
    "df"
   ],
   "id": "ed8d90af6f06d772"
  },
  {
   "metadata": {},
   "cell_type": "markdown",
   "source": [
    "## Parte 2: Procesamiento del Corpus\n",
    "\n",
    "Aquí se debe obtener el corpus procesado. El corpus estará formado por documentos que corresponden a las secciones (o subsecciones) de los libros. Cada documento debe indicar a qué libro corresponde, así como las páginas en las que está dentro de ese libro.\n",
    "\n",
    "Recuerden que los documentos procesados no deben contener textos o caracteres ajenos al tema del que tratan.  "
   ],
   "id": "9333f3666484f4ce"
  },
  {
   "metadata": {},
   "cell_type": "code",
   "outputs": [],
   "execution_count": null,
   "source": "",
   "id": "edb82f4c1d92ede8"
  },
  {
   "metadata": {},
   "cell_type": "markdown",
   "source": [
    "## Parte 3: Cálculo de Embeddings e Indexación en base de datos vectorial\n",
    "\n",
    "Aquí, una vez que se ha calculado el embedding de cada documento, se deberá indexar este embedding en una base de datos vectorial como FAISS, ChromaDB o Pinecone"
   ],
   "id": "7b0264565d37ac35"
  },
  {
   "metadata": {},
   "cell_type": "code",
   "outputs": [],
   "execution_count": null,
   "source": "",
   "id": "8325a0116779dd86"
  },
  {
   "metadata": {},
   "cell_type": "markdown",
   "source": [
    "## Parte 4: Búsqueda y obtención del contexto\n",
    "\n",
    "En esta parte debemos definir una _query_ y buscar los documentos que más se relacionan con ella.\n",
    "\n",
    "Estos documentos formarán el contexto que vamos a entregar al LLM."
   ],
   "id": "d02916370ab201c1"
  },
  {
   "metadata": {},
   "cell_type": "code",
   "outputs": [],
   "execution_count": null,
   "source": "",
   "id": "8ccd438b201b197c"
  },
  {
   "metadata": {},
   "cell_type": "markdown",
   "source": [
    "## Parte 5: Generación de Respuesta\n",
    "\n",
    "Aquí, entregamos el contexto al LLM, y él nos responde a la _query_ con una explicación en lenguaje natural."
   ],
   "id": "158cb4c44f6966f"
  },
  {
   "metadata": {},
   "cell_type": "code",
   "outputs": [],
   "execution_count": null,
   "source": "",
   "id": "e2710999824ea677"
  },
  {
   "metadata": {},
   "cell_type": "markdown",
   "source": "",
   "id": "fd2f57d87fcefdf3"
  }
 ],
 "metadata": {
  "kernelspec": {
   "display_name": "Python 3",
   "language": "python",
   "name": "python3"
  },
  "language_info": {
   "codemirror_mode": {
    "name": "ipython",
    "version": 2
   },
   "file_extension": ".py",
   "mimetype": "text/x-python",
   "name": "python",
   "nbconvert_exporter": "python",
   "pygments_lexer": "ipython2",
   "version": "2.7.6"
  }
 },
 "nbformat": 4,
 "nbformat_minor": 5
}
