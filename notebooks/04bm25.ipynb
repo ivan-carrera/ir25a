{
 "cells": [
  {
   "metadata": {},
   "cell_type": "markdown",
   "source": [
    "# Ejercicio 4: Modelo Probabilístico\n",
    "\n",
    "## Objetivo de la práctica\n",
    "- Comprender los componentes del modelo vectorial mediante cálculos manuales y observación directa.\n",
    "- Aplicar el modelo de espacio vectorial con TF-IDF para recuperar documentos relevantes.\n",
    "- Comparar la recuperación con BM25 frente a TF-IDF.\n",
    "- Analizar visualmente las diferencias entre los modelos.\n",
    "- Evaluar si los rankings generados son consistentes con lo que considerarías documentos relevantes."
   ],
   "id": "941741204a003f44"
  },
  {
   "metadata": {},
   "cell_type": "markdown",
   "source": "## Parte 0: Carga del Corpus",
   "id": "93bafe7a6a4ef9e5"
  },
  {
   "metadata": {
    "ExecuteTime": {
     "end_time": "2025-05-21T14:16:07.323562Z",
     "start_time": "2025-05-21T14:16:05.364309Z"
    }
   },
   "cell_type": "code",
   "source": [
    "from sklearn.datasets import fetch_20newsgroups\n",
    "\n",
    "newsgroups = fetch_20newsgroups(subset='all', remove=('headers', 'footers', 'quotes'))\n",
    "newsgroupsdocs = newsgroups.data"
   ],
   "id": "ad08bb8bd43ae327",
   "outputs": [],
   "execution_count": 8
  },
  {
   "metadata": {},
   "cell_type": "markdown",
   "source": [
    "## Parte 1: Cálculo de TF, DF, IDF y TF-IDF\n",
    "\n",
    "### Actividad \n",
    "1. Utiliza el corpus cargado.\n",
    "2. Construye la matriz de términos (TF), y calcula la frecuencia de documentos (DF)\n",
    "3. Calcula TF-IDF utilizando sklearn.\n",
    "4. Visualiza los valores en un DataFrame para analizar las diferencias entre los términos."
   ],
   "id": "10f8c7f78934f497"
  },
  {
   "metadata": {},
   "cell_type": "code",
   "source": "",
   "id": "d2ebd9f1c1b6c787",
   "outputs": [],
   "execution_count": null
  },
  {
   "metadata": {},
   "cell_type": "markdown",
   "source": [
    "## Parte 2: Ranking de documentos usando TF-IDF\n",
    "\n",
    "### Actividad \n",
    "\n",
    "1. Dada una consulta, construye el vector de consulta\n",
    "2. Calcula la similitud coseno entre la consulta y cada documento usando los vectores TF-IDF\n",
    "3. Genera un ranking de los documentos ordenados por relevancia.\n",
    "4. Muestra los resultados en una tabla."
   ],
   "id": "64491bce5361e8b3"
  },
  {
   "metadata": {},
   "cell_type": "code",
   "source": "",
   "id": "9d082c4a156b9554",
   "outputs": [],
   "execution_count": null
  },
  {
   "metadata": {},
   "cell_type": "markdown",
   "source": [
    "## Parte 3: Ranking con BM25\n",
    "\n",
    "### Actividad \n",
    "\n",
    "1. Implementa un sistema de recuperación usando el modelo BM25.\n",
    "2. Usa la misma consulta del ejercicio anterior.\n",
    "3. Calcula el score BM25 para cada documento y genera un ranking.\n",
    "4. Compara manualmente con el ranking de TF-IDF."
   ],
   "id": "97061325508dc5f2"
  },
  {
   "metadata": {},
   "cell_type": "code",
   "outputs": [],
   "execution_count": null,
   "source": "",
   "id": "2a0dca2bcfa73c5b"
  },
  {
   "metadata": {},
   "cell_type": "markdown",
   "source": [
    "## Parte 4: Comparación visual entre TF-IDF y BM25\n",
    "\n",
    "### Actividad \n",
    "\n",
    "1. Utiliza un gráfico de barras para visualizar los scores obtenidos por cada documento según TF-IDF y BM25.\n",
    "2. Compara los rankings visualmente.\n",
    "3. Identifica: ¿Qué documentos obtienen scores más altos en un modelo que en otro?\n",
    "4. Sugiere: ¿A qué se podría deber esta diferencia?"
   ],
   "id": "2c71b85e77b4b181"
  },
  {
   "metadata": {},
   "cell_type": "code",
   "outputs": [],
   "execution_count": null,
   "source": "",
   "id": "16ad3d9d16c04d35"
  },
  {
   "metadata": {},
   "cell_type": "markdown",
   "source": [
    "## Parte 5: Evaluación con consulta relevante\n",
    "\n",
    "### Actividad \n",
    "\n",
    "1. Elige una consulta y define qué documentos del corpus deberían considerarse relevantes.\n",
    "2. Evalúa Precision@3 o MAP para los rankings generados con TF-IDF y BM25.\n",
    "3. Responde: ¿Cuál modelo da mejores resultados respecto a tu criterio de relevancia?"
   ],
   "id": "b97d171655ecfb"
  },
  {
   "metadata": {},
   "cell_type": "code",
   "outputs": [],
   "execution_count": null,
   "source": "",
   "id": "6d5de59378900ca"
  }
 ],
 "metadata": {
  "kernelspec": {
   "display_name": "Python 3",
   "language": "python",
   "name": "python3"
  },
  "language_info": {
   "codemirror_mode": {
    "name": "ipython",
    "version": 2
   },
   "file_extension": ".py",
   "mimetype": "text/x-python",
   "name": "python",
   "nbconvert_exporter": "python",
   "pygments_lexer": "ipython2",
   "version": "2.7.6"
  }
 },
 "nbformat": 4,
 "nbformat_minor": 5
}
