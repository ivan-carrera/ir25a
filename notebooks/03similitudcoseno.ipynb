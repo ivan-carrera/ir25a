{
 "cells": [
  {
   "metadata": {},
   "cell_type": "markdown",
   "source": [
    "# Ejercicio 3: Representación Gráfica de Vectores de Documentos y Consultas\n",
    "\n",
    "## Objetivo de la práctica\n",
    "- Comprender la representación de documentos y consultas en el modelo de espacio vectorial, mediante el cálculo de matrices término-documento usando medidas como TF y TF-IDF.\n",
    "- Aplicar la similitud coseno para comparar documentos con consultas, y utilizarla para recuperar y ordenar documentos según su relevancia.\n",
    "- Visualizar de forma intuitiva los vectores de documentos y consultas, mediante reducción de dimensionalidad y representación gráfica en el plano, para facilitar la interpretación geométrica de la recuperación de información."
   ],
   "id": "25a9d760d321cc33"
  },
  {
   "metadata": {},
   "cell_type": "markdown",
   "source": [
    "## Parte 1: Construcción de la matriz término-documento y TF-IDF\n",
    "\n",
    "### Actividad\n",
    "1. Usa el siguiente corpus de 4 documentos.\n",
    "2. Vectoriza los documentos usando:\n",
    "   - Frecuencia absoluta (TF)\n",
    "   - TF-IDF\n",
    "3. Visualiza los documentos como un gráfico de dispersión 2D y 3D."
   ],
   "id": "1fe1c237143173b7"
  },
  {
   "cell_type": "code",
   "execution_count": null,
   "id": "initial_id",
   "metadata": {
    "collapsed": true
   },
   "outputs": [],
   "source": [
    "documents = [\n",
    "    \"El gato se escondió debajo de la cama.\",\n",
    "    \"La cama estaba limpia y cómoda.\",\n",
    "    \"El perro y el gato jugaron en el jardín.\",\n",
    "    \"La limpieza del jardín es importante.\"\n",
    "]\n",
    "\n",
    "# Representación TF\n",
    "\n",
    "# Representación TF-IDF\n",
    "\n",
    "# Reducción PCA y visualización 2D\n",
    "pca = PCA(n_components=2)\n",
    "docs_2d = pca.fit_transform(X_tfidf.toarray())\n",
    "\n",
    "plt.scatter(docs_2d[:,0], docs_2d[:,1])\n",
    "for i, txt in enumerate([\"D1\", \"D2\", \"D3\", \"D4\"]):\n",
    "    plt.annotate(txt, (docs_2d[i,0], docs_2d[i,1]))\n",
    "plt.title(\"Documentos en espacio vectorial 2D (TF-IDF + PCA)\")\n",
    "plt.xlabel(\"PC1\")\n",
    "plt.ylabel(\"PC2\")\n",
    "plt.grid()\n",
    "plt.show()\n",
    "\n",
    "# Reducción PCA y visualización 3D"
   ]
  },
  {
   "metadata": {},
   "cell_type": "markdown",
   "source": [
    "## Parte 2: Representación de la consulta como vector\n",
    "\n",
    "### Actividad\n",
    "1. Ingresa una consulta como texto.\n",
    "2. Representa la consulta en el mismo espacio vectorial que los documentos.\n",
    "3. Calcula similitud coseno entre la consulta y cada documento.\n",
    "4. Visualiza la consulta como un vector en el mismo espacio vectorial que los documentos."
   ],
   "id": "8736bea5c8c765cb"
  },
  {
   "metadata": {},
   "cell_type": "code",
   "outputs": [],
   "execution_count": null,
   "source": "",
   "id": "2a574fb37d9da2fe"
  },
  {
   "metadata": {},
   "cell_type": "markdown",
   "source": [
    "## Parte 3: Consulta por similitud y ranking de documentos\n",
    "\n",
    "### Actividad\n",
    "1. Con la misma representación de vectores, implementar una función que devuelva los documentos más relevantes a una consulta usando similitud coseno.\n",
    "2. Dibuja los vectores (de documentos y de consulta) como flechas desde el origen usando `plt.quiver()` o `plt.arrow()`"
   ],
   "id": "79961ff9560fb01e"
  },
  {
   "metadata": {},
   "cell_type": "code",
   "outputs": [],
   "execution_count": null,
   "source": "",
   "id": "15f49c2fcfe708cf"
  }
 ],
 "metadata": {
  "kernelspec": {
   "display_name": "Python 3",
   "language": "python",
   "name": "python3"
  },
  "language_info": {
   "codemirror_mode": {
    "name": "ipython",
    "version": 2
   },
   "file_extension": ".py",
   "mimetype": "text/x-python",
   "name": "python",
   "nbconvert_exporter": "python",
   "pygments_lexer": "ipython2",
   "version": "2.7.6"
  }
 },
 "nbformat": 4,
 "nbformat_minor": 5
}
